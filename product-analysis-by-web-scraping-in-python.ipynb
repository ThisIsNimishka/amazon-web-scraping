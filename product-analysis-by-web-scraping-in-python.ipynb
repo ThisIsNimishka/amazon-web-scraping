{
 "cells": [
  {
   "cell_type": "markdown",
   "metadata": {},
   "source": [
    "# product-analysis-by-web-scraping-in-python\n",
    "\n",
    "Use the \"Run\" button to execute the code."
   ]
  },
  {
   "cell_type": "code",
   "execution_count": 1,
   "metadata": {},
   "outputs": [
    {
     "name": "stdout",
     "output_type": "stream",
     "text": [
      "Requirement already satisfied: beautifulsoup4 in /opt/conda/lib/python3.9/site-packages (4.10.0)\r\n",
      "Requirement already satisfied: soupsieve>1.2 in /opt/conda/lib/python3.9/site-packages (from beautifulsoup4) (2.3)\r\n"
     ]
    }
   ],
   "source": [
    "!pip3 install beautifulsoup4"
   ]
  },
  {
   "cell_type": "code",
   "execution_count": 2,
   "metadata": {},
   "outputs": [],
   "source": [
    "# Importing necessary libraries\n",
    "import pandas as pd\n",
    "import numpy as np\n",
    "import matplotlib.pyplot as plt\n",
    "import seaborn as sns\n",
    "%matplotlib inline\n",
    "import re\n",
    "import time\n",
    "from datetime import datetime\n",
    "import matplotlib.dates as mdates\n",
    "import matplotlib.ticker as ticker\n",
    "from urllib.request import urlopen\n",
    "from bs4 import BeautifulSoup\n",
    "import requests"
   ]
  },
  {
   "cell_type": "code",
   "execution_count": 3,
   "metadata": {},
   "outputs": [],
   "source": [
    "# Scraping the Amazon Best Selling Books\n",
    "no_pages = 2\n",
    "\n",
    "def get_data(pageNo):  \n",
    "    headers = {\"User-Agent\":\"Mozilla/5.0 (Windows NT 10.0; Win64; x64; rv:66.0) Gecko/20100101 Firefox/66.0\", \"Accept-Encoding\":\"gzip, deflate\", \"Accept\":\"text/html,application/xhtml+xml,application/xml;q=0.9,*/*;q=0.8\", \"DNT\":\"1\",\"Connection\":\"close\", \"Upgrade-Insecure-Requests\":\"1\"}\n",
    "\n",
    "    r = requests.get('https://www.amazon.in/gp/bestsellers/books/ref=zg_bs_pg_'+str(pageNo)+'?ie=UTF8&pg='+str(pageNo), headers=headers)#, proxies=proxies)\n",
    "    \n",
    "#     https://www.amazon.in/Examination-amendments-Lawmanns-Official-automateB/dp/B09HM7KD71/ref=zg_bs_books_sccl_1/260-0154031-9276700?psc=1\n",
    "#     https://www.amazon.in/Energize-Your-Mind-Mastering-Thoughts/dp/0143442287/ref=zg_bs_books_sccl_2/260-0154031-9276700?psc=1\n",
    "    \n",
    "    content = r.content\n",
    "    soup = BeautifulSoup(content)\n",
    "    #print(soup)\n",
    "\n",
    "    alls = []\n",
    "    for d in soup.findAll('div', attrs={'class':'a-section a-spacing-none aok-relative'}):\n",
    "        #print(d)\n",
    "        name = d.find('span', attrs={'class':'zg-text-center-align'})\n",
    "        n = name.find_all('img', alt=True)\n",
    "        #print(n[0]['alt'])\n",
    "        author = d.find('a', attrs={'class':'a-size-small a-link-child'})\n",
    "        rating = d.find('span', attrs={'class':'a-icon-alt'})\n",
    "        users_rated = d.find('a', attrs={'class':'a-size-small a-link-normal'})\n",
    "        price = d.find('span', attrs={'class':'p13n-sc-price'})\n",
    "\n",
    "        all1=[]\n",
    "\n",
    "        if name is not None:\n",
    "            #print(n[0]['alt'])\n",
    "            all1.append(n[0]['alt'])\n",
    "        else:\n",
    "            all1.append(\"unknown-product\")\n",
    "\n",
    "        if author is not None:\n",
    "            #print(author.text)\n",
    "            all1.append(author.text)\n",
    "        elif author is None:\n",
    "            author = d.find('span', attrs={'class':'a-size-small a-color-base'})\n",
    "            if author is not None:\n",
    "                all1.append(author.text)\n",
    "            else:    \n",
    "                all1.append('0')\n",
    "\n",
    "        if rating is not None:\n",
    "            #print(rating.text)\n",
    "            all1.append(rating.text)\n",
    "        else:\n",
    "            all1.append('-1')\n",
    "\n",
    "        if users_rated is not None:\n",
    "            #print(price.text)\n",
    "            all1.append(users_rated.text)\n",
    "        else:\n",
    "            all1.append('0')     \n",
    "\n",
    "        if price is not None:\n",
    "            #print(price.text)\n",
    "            all1.append(price.text)\n",
    "        else:\n",
    "            all1.append('0')\n",
    "        alls.append(all1)    \n",
    "    return alls"
   ]
  },
  {
   "cell_type": "code",
   "execution_count": 4,
   "metadata": {},
   "outputs": [],
   "source": [
    "results = []\n",
    "for i in range(1, no_pages+1):\n",
    "    results.append(get_data(i))\n",
    "flatten = lambda l: [item for sublist in l for item in sublist]\n",
    "df = pd.DataFrame(flatten(results),columns=['Book Name','Author','Rating','Customers_Rated', 'Price'])\n",
    "df.to_csv('amazon_products.csv', index=False, encoding='utf-8')"
   ]
  },
  {
   "cell_type": "code",
   "execution_count": 5,
   "metadata": {},
   "outputs": [
    {
     "data": {
      "text/html": [
       "<div>\n",
       "<style scoped>\n",
       "    .dataframe tbody tr th:only-of-type {\n",
       "        vertical-align: middle;\n",
       "    }\n",
       "\n",
       "    .dataframe tbody tr th {\n",
       "        vertical-align: top;\n",
       "    }\n",
       "\n",
       "    .dataframe thead th {\n",
       "        text-align: right;\n",
       "    }\n",
       "</style>\n",
       "<table border=\"1\" class=\"dataframe\">\n",
       "  <thead>\n",
       "    <tr style=\"text-align: right;\">\n",
       "      <th></th>\n",
       "      <th>Book Name</th>\n",
       "      <th>Author</th>\n",
       "      <th>Rating</th>\n",
       "      <th>Customers_Rated</th>\n",
       "      <th>Price</th>\n",
       "    </tr>\n",
       "  </thead>\n",
       "  <tbody>\n",
       "  </tbody>\n",
       "</table>\n",
       "</div>"
      ],
      "text/plain": [
       "Empty DataFrame\n",
       "Columns: [Book Name, Author, Rating, Customers_Rated, Price]\n",
       "Index: []"
      ]
     },
     "execution_count": 5,
     "metadata": {},
     "output_type": "execute_result"
    }
   ],
   "source": [
    "# Reading CSV File\n",
    "df = pd.read_csv(\"amazon_products.csv\")\n",
    "df.shape\n",
    "(100, 5)\n",
    "df.head(61)\n"
   ]
  },
  {
   "cell_type": "markdown",
   "metadata": {},
   "source": [
    "### ROUGH"
   ]
  },
  {
   "cell_type": "code",
   "execution_count": 1,
   "metadata": {},
   "outputs": [
    {
     "name": "stdout",
     "output_type": "stream",
     "text": [
      "Requirement already satisfied: beautifulsoup4 in /opt/conda/lib/python3.9/site-packages (4.10.0)\r\n",
      "Requirement already satisfied: soupsieve>1.2 in /opt/conda/lib/python3.9/site-packages (from beautifulsoup4) (2.3)\r\n"
     ]
    }
   ],
   "source": [
    "!pip3 install beautifulsoup4"
   ]
  },
  {
   "cell_type": "code",
   "execution_count": 28,
   "metadata": {},
   "outputs": [],
   "source": [
    "# Importing necessary libraries\n",
    "import pandas as pd\n",
    "import numpy as np\n",
    "import matplotlib.pyplot as plt\n",
    "import seaborn as sns\n",
    "%matplotlib inline\n",
    "import re\n",
    "import time\n",
    "from datetime import datetime\n",
    "import matplotlib.dates as mdates\n",
    "import matplotlib.ticker as ticker\n",
    "from urllib.request import urlopen\n",
    "from bs4 import BeautifulSoup\n",
    "import requests"
   ]
  },
  {
   "cell_type": "code",
   "execution_count": 29,
   "metadata": {},
   "outputs": [],
   "source": [
    "url = 'https://www.amazon.in/gp/bestsellers/books/'\n",
    "headers = {\"User-Agent\":\"Mozilla/5.0 (Windows NT 10.0; Win64; x64) AppleWebKit/537.36 (KHTML, like Gecko) Chrome/109.0.0.0 Safari/537.36\", \n",
    "           \"Accept-Encoding\":\"gzip, deflate, br\", \n",
    "           \"Accept\":\"text/html,application/xhtml+xml,application/xml;q=0.9,image/avif,image/webp,image/apng,*/*;q=0.8\", \n",
    "           \"DNT\":\"1\",\n",
    "           \"Connection\":\"close\", \n",
    "           \"Upgrade-Insecure-Requests\":\"1\"}\n",
    "response = requests.get(url, headers = headers)\n",
    "if response.status_code != 200:\n",
    "    raise Exception('Failed to load page {}'.format(url))\n",
    "soup = BeautifulSoup(response.text,'html.parser')\n",
    "\n"
   ]
  },
  {
   "cell_type": "code",
   "execution_count": 30,
   "metadata": {
    "scrolled": true
   },
   "outputs": [
    {
     "data": {
      "text/plain": [
       "'The Psychology of Money'"
      ]
     },
     "execution_count": 30,
     "metadata": {},
     "output_type": "execute_result"
    }
   ],
   "source": [
    "class1 = '_cDEzb_p13n-sc-css-line-clamp-1_1Fn1y'\n",
    "tags = soup.find_all('div',{'class': class1})\n",
    "\n",
    "book_names = []\n",
    "for tag in tags:\n",
    "    book_names.append(tag.text)\n",
    "book_names\n",
    "\n",
    "col=2\n",
    "book_names_and_author = np.array([book_names[i:i+col] for i in range(0, len(book_names), col)],dtype='object') \n",
    "book_names_and_author[0][1]\n",
    "book_names[0]"
   ]
  },
  {
   "cell_type": "code",
   "execution_count": 31,
   "metadata": {},
   "outputs": [
    {
     "data": {
      "text/plain": [
       "['The Psychology of Money',\n",
       " 'Atomic Habits: the life-changing million-copy #1 bestseller',\n",
       " 'BlackBook of English Vocabulary March 2023 by Nikhil Gupta',\n",
       " \"Grandma's Bag of Stories: Collection of 20+ Illustrated short stories, traditional Indian folk tales for all ages for children of all ages by Sudha Murty [Paperback] Sudha Murty\",\n",
       " 'The Hidden Hindu: ScienceFiction meets Indian mythology in a nail biting thriller set in 2020',\n",
       " 'THE 48 LAWS OF POWER',\n",
       " 'My First Library: Boxset of 10 Board Books for Kids',\n",
       " 'The Power of Your Subconscious Mind',\n",
       " 'Ikigai: The Japanese secret to a long and happy life [Hardcover] García, Héctor and Miralles, Francesc',\n",
       " 'Rich Dad Poor Dad: 25th Anniversary Edit']"
      ]
     },
     "execution_count": 31,
     "metadata": {},
     "output_type": "execute_result"
    }
   ],
   "source": [
    "\n",
    "class1 = '_cDEzb_p13n-sc-css-line-clamp-1_1Fn1y'\n",
    "tags = soup.find_all('div',{'class': class1})\n",
    "book_names = []    \n",
    "tag_text =[]\n",
    "for i in tags:\n",
    "    tag_text.append(i.text)\n",
    "top10 = tag_text[0:20]\n",
    "for index, value in enumerate(top10):\n",
    "    #print(index, value)\n",
    "    if index % 2 == 0:\n",
    "        book_names.append(value)\n",
    "book_names"
   ]
  },
  {
   "cell_type": "code",
   "execution_count": 32,
   "metadata": {},
   "outputs": [
    {
     "data": {
      "text/plain": [
       "array([list(['The Psychology of Money', 'Morgan Housel']),\n",
       "       list(['Atomic Habits: the life-changing million-copy #1 bestseller', 'James Clear']),\n",
       "       list(['BlackBook of English Vocabulary March 2023 by Nikhil Gupta', 'Nikhil Kr Gupta']),\n",
       "       list([\"Grandma's Bag of Stories: Collection of 20+ Illustrated short stories, traditional Indian folk tales for all ages for children of all ages by Sudha Murty [Paperback] Sudha Murty\", 'Sudha Murty']),\n",
       "       list(['The Hidden Hindu: ScienceFiction meets Indian mythology in a nail biting thriller set in 2020', 'Akshat Gupta']),\n",
       "       list(['THE 48 LAWS OF POWER', 'Robert Greene']),\n",
       "       list(['My First Library: Boxset of 10 Board Books for Kids', 'Wonder House Books']),\n",
       "       list(['The Power of Your Subconscious Mind', 'Joseph Murphy']),\n",
       "       list(['Ikigai: The Japanese secret to a long and happy life [Hardcover] García, Héctor and Miralles, Francesc', 'Francesc Miralles']),\n",
       "       list(['Rich Dad Poor Dad: 25th Anniversary Edit', 'Robert T. Kiyosaki']),\n",
       "       list(['Brain Activity Book for Kids - 200+ Activities for Age 3+', 'Maple Press']),\n",
       "       list(['Energize Your Mind: Learn the Art of Mastering Your Thoughts, Feelings and Emotions', 'Gaur Gopal Das']),\n",
       "       list(['First Aid for the USMLE Step 1 2023, Thirty Third Edition', 'Matthew Sochat']),\n",
       "       list(['The Crooked Timber of New India : Essays on a Republic in Crisis', 'Parakala Prabhakar']),\n",
       "       list(['My First Mythology Tale (Illustrated) (Set of 5 Books) - Mahabharata, Krishna, Hanuman, Ganesha, Ramayana - Story Book for Kids - English Short Stories with Colourful Pictures - Read Aloud to Infants, Toddlers', 'Maple Press']),\n",
       "       list(['My First Book of Pencil Control : Practice Pattern Writing (Full Color Pages): Patterns Practice book for kids (Pattern Writing)', 'Wonder House Books']),\n",
       "       list(['NCERT Objective Studies Kit for UPSC, State PSCs [Multiple Choice Questions (MCQ Quiz) with Answers] (Set of 5 Books in Hindi)', 'IAS (AIR-49) Dr. Ranjit Kumar Singh']),\n",
       "       list(['Shrimad Bhagwat Geeta Yatharoop', 'A.C. Bhaktivendanta Swami Prabhupada']),\n",
       "       list(['As a Man Thinketh', 'James Allen']),\n",
       "       list([\"Don't Believe Everything You Think\", 'Joseph Nguyen']),\n",
       "       list(['NTA UGC NET /SET/JRF Paper 1, Teaching and Research Aptitude – 2023, Includes latest 2022 paper and 2600+ Practice Questions with Solutions | Includes NEP - 2020| 7th Edition - By Pearson', 'KVS Madaan']),\n",
       "       list(['SSC General Studies 6500 TCS MCQ chapter wise english medium 4th edition', 'Pinnacle Publications']),\n",
       "       list(['The Magic Of The Lost Temple**', 'Sudha Murty']),\n",
       "       list(['Farah Sultan Aditya Raj ', 'The Hidden Hindu (Hindi Translation of The Hidden Hindu)']),\n",
       "       list(['Akshat Gupta', \"Life's Amazing Secrets: How to find Bala\"]),\n",
       "       list(['Gaur Gopal Das', 'Little Colouring Books for Kids (Set of 10 Books) - Gift to children for painting, drawing and colouring - Alphabets, Animals, Birds, Flags, Flowers, ... Transport, Vegetables - 3 to 6 years old [Paperback] Maple Press']),\n",
       "       list(['Maple Press', \"Man's Search For Meaning: The classic tribute to hope from the Holocaust Frankl, Viktor E\"]),\n",
       "       list(['Viktor E. Frankl', '1800+ Reward Stickers - Ideal For Teachers And Parents : Sticker Book With Over 1800 Stickers To Boost The Morale of Kids']),\n",
       "       list(['Wonder House Books'])], dtype=object)"
      ]
     },
     "execution_count": 32,
     "metadata": {},
     "output_type": "execute_result"
    }
   ],
   "source": [
    "class1 = '_cDEzb_p13n-sc-css-line-clamp-1_1Fn1y'\n",
    "tags = soup.find_all('div',{'class': class1})\n",
    "book_names = []\n",
    "for tag in tags:\n",
    "    if tag is not None:\n",
    "        book_names.append(tag.text)\n",
    "        col=2\n",
    "        book_names_and_author = np.array([book_names[i:i+col] for i in range(0, len(book_names), col)],dtype='object') \n",
    "    else:\n",
    "        book_names_and_author.append(\"unknown-book-name\")\n",
    "book_names_and_author"
   ]
  },
  {
   "cell_type": "code",
   "execution_count": 33,
   "metadata": {},
   "outputs": [],
   "source": [
    "# book_names = []\n",
    "# for i in book_names_and_author:\n",
    "#     book_names.append(book_names_and_author[:i])\n",
    "# book_names[0]"
   ]
  },
  {
   "cell_type": "code",
   "execution_count": 57,
   "metadata": {
    "code_folding": []
   },
   "outputs": [
    {
     "data": {
      "text/plain": [
       "['Morgan Housel',\n",
       " 'James Clear',\n",
       " 'Nikhil Kr Gupta',\n",
       " 'Sudha Murty',\n",
       " 'Akshat Gupta',\n",
       " 'Robert Greene',\n",
       " 'Wonder House Books',\n",
       " 'Joseph Murphy',\n",
       " 'Francesc Miralles',\n",
       " 'Robert T. Kiyosaki']"
      ]
     },
     "execution_count": 57,
     "metadata": {},
     "output_type": "execute_result"
    }
   ],
   "source": [
    "class1 = '_cDEzb_p13n-sc-css-line-clamp-1_1Fn1y'\n",
    "tags = soup.find_all('div',{'class': class1})\n",
    "\n",
    "book_names = []\n",
    "book_author = []\n",
    "\n",
    "tag_text =[]\n",
    "for i in tags:\n",
    "    tag_text.append(i.text)\n",
    "\n",
    "top10 = tag_text[:20]\n",
    "len(top10)\n",
    "\n",
    "for index, value in enumerate(top10):\n",
    "    #print(index, value)\n",
    "    if index % 2 != 0:\n",
    "        book_author.append(value)\n",
    "book_author"
   ]
  },
  {
   "cell_type": "code",
   "execution_count": 58,
   "metadata": {},
   "outputs": [
    {
     "data": {
      "text/plain": [
       "'4.6 out of 5 stars'"
      ]
     },
     "execution_count": 58,
     "metadata": {},
     "output_type": "execute_result"
    }
   ],
   "source": [
    "#Ratings\n",
    "class2 = 'a-icon-alt'\n",
    "tags2 = soup.find_all(\"span\",{'class': class2})\n",
    "\n",
    "ratings = []\n",
    "for tag in tags2:\n",
    "    ratings.append(tag.text)\n",
    "ratings[0]"
   ]
  },
  {
   "cell_type": "code",
   "execution_count": 59,
   "metadata": {},
   "outputs": [
    {
     "data": {
      "text/plain": [
       "'49,394'"
      ]
     },
     "execution_count": 59,
     "metadata": {},
     "output_type": "execute_result"
    }
   ],
   "source": [
    "# Customer Rated\n",
    "class3 = 'a-size-small'\n",
    "tags3 = soup.find_all(lambda tag: tag.name == 'span' and\n",
    "                                   tag.get('class') == [class3])\n",
    "\n",
    "customer_rated = []\n",
    "for tag in tags3:\n",
    "    customer_rated.append(tag.text)\n",
    "customer_rated[0]"
   ]
  },
  {
   "cell_type": "code",
   "execution_count": 62,
   "metadata": {},
   "outputs": [
    {
     "data": {
      "text/plain": [
       "['210.00',\n",
       " '390.00',\n",
       " '272.00',\n",
       " '188.00',\n",
       " '170.00',\n",
       " '646.00',\n",
       " '379.00',\n",
       " '115.00',\n",
       " '377.79',\n",
       " '405.00',\n",
       " '100.00',\n",
       " '189.00',\n",
       " '1325.00',\n",
       " '435.00',\n",
       " '209.00',\n",
       " '179.00',\n",
       " '89.00',\n",
       " '563.75',\n",
       " '203.00',\n",
       " '69.00',\n",
       " '209.00',\n",
       " '349.00',\n",
       " '499.00',\n",
       " '195.00',\n",
       " '388.00',\n",
       " '155.00',\n",
       " '159.00',\n",
       " '210.00',\n",
       " '169.00',\n",
       " '149.00']"
      ]
     },
     "execution_count": 62,
     "metadata": {},
     "output_type": "execute_result"
    }
   ],
   "source": [
    "# Price\n",
    "class4 = '_cDEzb_p13n-sc-price_3mJ9Z'\n",
    "tags4 = soup.find_all(\"span\",{'class': class4})\n",
    "\n",
    "price = []\n",
    "for tag in tags4:\n",
    "    price1 = float(tag.text[1:].replace(',',''))\n",
    "    price2 = \"{:.2f}\".format(price1)\n",
    "    price.append(price2)\n",
    "price"
   ]
  },
  {
   "cell_type": "code",
   "execution_count": 56,
   "metadata": {},
   "outputs": [
    {
     "data": {
      "text/plain": [
       "[49394, 77656, 394, 18889, 1382, 16275, 69430, 74085, 47724, 21947]"
      ]
     },
     "execution_count": 56,
     "metadata": {},
     "output_type": "execute_result"
    }
   ],
   "source": [
    "class3 = 'a-size-small'\n",
    "tags3 = soup.find_all(lambda tag: tag.name == 'span' and tag.get('class') == [class3])\n",
    "customers_rated = []\n",
    "for tag in tags3:\n",
    "    new = tag.text\n",
    "    new1 = int(new.replace(',',''))\n",
    "    customers_rated.append(new1)\n",
    "top10_customers_rated = customers_rated[:10]\n",
    "top10_customers_rated"
   ]
  },
  {
   "cell_type": "code",
   "execution_count": 16,
   "metadata": {},
   "outputs": [
    {
     "ename": "NameError",
     "evalue": "name 'get_book_name' is not defined",
     "output_type": "error",
     "traceback": [
      "\u001b[0;31m---------------------------------------------------------------------------\u001b[0m",
      "\u001b[0;31mNameError\u001b[0m                                 Traceback (most recent call last)",
      "\u001b[0;32m/tmp/ipykernel_31/3596257993.py\u001b[0m in \u001b[0;36m<module>\u001b[0;34m\u001b[0m\n\u001b[1;32m      1\u001b[0m dict = {\n\u001b[0;32m----> 2\u001b[0;31m         \u001b[0;34m'Book_Name'\u001b[0m\u001b[0;34m:\u001b[0m \u001b[0mget_book_name\u001b[0m\u001b[0;34m(\u001b[0m\u001b[0mdoc\u001b[0m\u001b[0;34m)\u001b[0m\u001b[0;34m,\u001b[0m\u001b[0;34m\u001b[0m\u001b[0;34m\u001b[0m\u001b[0m\n\u001b[0m\u001b[1;32m      3\u001b[0m         \u001b[0;34m'Author'\u001b[0m\u001b[0;34m:\u001b[0m  \u001b[0mget_author\u001b[0m\u001b[0;34m(\u001b[0m\u001b[0mdoc\u001b[0m\u001b[0;34m)\u001b[0m\u001b[0;34m,\u001b[0m\u001b[0;34m\u001b[0m\u001b[0;34m\u001b[0m\u001b[0m\n\u001b[1;32m      4\u001b[0m         \u001b[0;34m'Ratings'\u001b[0m\u001b[0;34m:\u001b[0m  \u001b[0mget_ratings\u001b[0m\u001b[0;34m(\u001b[0m\u001b[0mdoc\u001b[0m\u001b[0;34m)\u001b[0m\u001b[0;34m,\u001b[0m\u001b[0;34m\u001b[0m\u001b[0;34m\u001b[0m\u001b[0m\n\u001b[1;32m      5\u001b[0m         \u001b[0;34m'Customers_Rated'\u001b[0m\u001b[0;34m:\u001b[0m  \u001b[0mget_customers_rated\u001b[0m\u001b[0;34m(\u001b[0m\u001b[0mdoc\u001b[0m\u001b[0;34m)\u001b[0m\u001b[0;34m,\u001b[0m\u001b[0;34m\u001b[0m\u001b[0;34m\u001b[0m\u001b[0m\n",
      "\u001b[0;31mNameError\u001b[0m: name 'get_book_name' is not defined"
     ]
    }
   ],
   "source": [
    "dict = {\n",
    "        'Book_Name': get_book_name(doc),\n",
    "        'Author':  get_author(doc),\n",
    "        'Ratings':  get_ratings(doc),\n",
    "        'Customers_Rated':  get_customers_rated(doc),\n",
    "        'Price':  get_price(doc),\n",
    "    }"
   ]
  },
  {
   "cell_type": "code",
   "execution_count": 19,
   "metadata": {},
   "outputs": [],
   "source": [
    "#Book_name_and_author\n",
    "def get_book_name(soup):\n",
    "    class1 = '_cDEzb_p13n-sc-css-line-clamp-1_1Fn1y'\n",
    "    tags = soup.find_all('div',{'class': class1})\n",
    "    book_names = []\n",
    "    \n",
    "    tag_text =[]\n",
    "    for i in tags:\n",
    "        tag_text.append(i.text)\n",
    "\n",
    "    top10 = tag_text[:20]\n",
    "    \n",
    "    for index, value in enumerate(top10):\n",
    "        #print(index, value)\n",
    "        if index % 2 == 0:\n",
    "            book_names.append(value)\n",
    "    return book_names"
   ]
  },
  {
   "cell_type": "code",
   "execution_count": 20,
   "metadata": {},
   "outputs": [],
   "source": [
    "#Author\n",
    "def get_author(soup):\n",
    "    class1 = '_cDEzb_p13n-sc-css-line-clamp-1_1Fn1y'\n",
    "    tags = soup.find_all('div',{'class': class1})\n",
    "    book_author = []\n",
    "    \n",
    "    tag_text =[]\n",
    "    for i in tags:\n",
    "        tag_text.append(i.text)\n",
    "\n",
    "    top10 = tag_text[:20]\n",
    "    \n",
    "    for index, value in enumerate(top10):\n",
    "        #print(index, value)\n",
    "        if index % 2 != 0:\n",
    "            book_author.append(value)\n",
    "    return book_names"
   ]
  },
  {
   "cell_type": "code",
   "execution_count": 21,
   "metadata": {},
   "outputs": [],
   "source": [
    "#Ratings\n",
    "def get_ratings(soup):\n",
    "    class2 = 'a-icon-alt'\n",
    "    tags2 = soup.find_all(\"span\",{'class': class2})\n",
    "    ratings = []\n",
    "    for tag in tags2:\n",
    "        if tag is not None:\n",
    "            ratings.append(tag.text)\n",
    "        else:\n",
    "            ratings.append(0)\n",
    "    top10_ratings = ratings[:10]\n",
    "    return top10_ratings"
   ]
  },
  {
   "cell_type": "code",
   "execution_count": 22,
   "metadata": {},
   "outputs": [],
   "source": [
    "#Customers_Rated\n",
    "def get_customers_rated(soup):\n",
    "    class3 = 'a-size-small'\n",
    "    tags3 = soup.find_all(lambda tag: tag.name == 'span' and tag.get('class') == [class3])\n",
    "    customers_rated = []\n",
    "    for tag in tags3:\n",
    "        customers_rated.append(tag.text)\n",
    "    return customers_rated"
   ]
  },
  {
   "cell_type": "code",
   "execution_count": 24,
   "metadata": {
    "code_folding": []
   },
   "outputs": [],
   "source": [
    "#Price\n",
    "def get_price(soup):\n",
    "    class4 = '_cDEzb_p13n-sc-price_3mJ9Z'\n",
    "    tags4 = soup.find_all(\"span\",{'class': class4})\n",
    "    price = []\n",
    "    for tag in tags4:\n",
    "        if tag is not None:\n",
    "            price1 = float(tag.text[1:])\n",
    "            price2 = \"{:.2f}\".format(price1)\n",
    "            price.append(price2)\n",
    "        else:\n",
    "            price.append(0)\n",
    "    top10_price = price[:10]\n",
    "    return top10_price"
   ]
  },
  {
   "cell_type": "code",
   "execution_count": 25,
   "metadata": {},
   "outputs": [],
   "source": [
    "#Function that takes returns a soup\n",
    "def make_soup():\n",
    "    url = 'https://www.amazon.in/gp/bestsellers/books/?ie=UTF8&ref_=sv_ba_3'\n",
    "    headers = {\"User-Agent\":\"Mozilla/5.0 (Windows NT 10.0; Win64; x64) AppleWebKit/537.36 (KHTML, like Gecko) Chrome/109.0.0.0 Safari/537.36\", \n",
    "               \"Accept-Encoding\":\"gzip, deflate, br\", \n",
    "               \"Accept\":\"text/html,application/xhtml+xml,application/xml;q=0.9,image/avif,image/webp,image/apng,*/*;q=0.8\", \n",
    "               \"DNT\":\"1\",\n",
    "               \"Connection\":\"close\", \n",
    "               \"Upgrade-Insecure-Requests\":\"1\"}\n",
    "    response = requests.get(url, headers = headers)\n",
    "    if response.status_code != 200:\n",
    "        raise Exception('Failed to load page {}'.format(url))\n",
    "    soup = BeautifulSoup(response.text,'html.parser')\n",
    "    return soup"
   ]
  },
  {
   "cell_type": "code",
   "execution_count": 26,
   "metadata": {},
   "outputs": [],
   "source": [
    "#function that takes a soup and returns a Pandas Dataframe\n",
    "def make_dataframe(doc):\n",
    "    dict = {\n",
    "        'Book_Name': get_book_name(doc),\n",
    "        'Author':  get_author(doc),\n",
    "        'Ratings':  get_ratings(doc),\n",
    "        'Customers_Rated':  get_customers_rated(doc),\n",
    "        'Price':  get_price(doc),\n",
    "    }\n",
    "    return pd.DataFrame(dict)\n"
   ]
  },
  {
   "cell_type": "code",
   "execution_count": 27,
   "metadata": {},
   "outputs": [
    {
     "ename": "NameError",
     "evalue": "name 'df' is not defined",
     "output_type": "error",
     "traceback": [
      "\u001b[0;31m---------------------------------------------------------------------------\u001b[0m",
      "\u001b[0;31mNameError\u001b[0m                                 Traceback (most recent call last)",
      "\u001b[0;32m/tmp/ipykernel_32/3854759080.py\u001b[0m in \u001b[0;36m<module>\u001b[0;34m\u001b[0m\n\u001b[0;32m----> 1\u001b[0;31m \u001b[0mdf\u001b[0m\u001b[0;34m.\u001b[0m\u001b[0mto_csv\u001b[0m\u001b[0;34m(\u001b[0m\u001b[0;34m'bestselling_books.csv'\u001b[0m\u001b[0;34m,\u001b[0m \u001b[0mindex\u001b[0m\u001b[0;34m=\u001b[0m\u001b[0;32mFalse\u001b[0m\u001b[0;34m,\u001b[0m \u001b[0mencoding\u001b[0m\u001b[0;34m=\u001b[0m\u001b[0;34m'utf-8'\u001b[0m\u001b[0;34m)\u001b[0m\u001b[0;34m\u001b[0m\u001b[0;34m\u001b[0m\u001b[0m\n\u001b[0m",
      "\u001b[0;31mNameError\u001b[0m: name 'df' is not defined"
     ]
    }
   ],
   "source": [
    "df.to_csv('bestselling_books.csv', index=False, encoding='utf-8')"
   ]
  },
  {
   "cell_type": "code",
   "execution_count": 19,
   "metadata": {},
   "outputs": [
    {
     "data": {
      "text/plain": [
       "['389.00',\n",
       " '197.00',\n",
       " '225.00',\n",
       " '379.00',\n",
       " '100.00',\n",
       " '235.00',\n",
       " '370.00',\n",
       " '178.00',\n",
       " '89.00',\n",
       " '245.00']"
      ]
     },
     "execution_count": 19,
     "metadata": {},
     "output_type": "execute_result"
    }
   ],
   "source": [
    "class4 = '_cDEzb_p13n-sc-price_3mJ9Z'\n",
    "tags4 = soup.find_all(\"span\",{'class': class4})\n",
    "price = []\n",
    "for tag in tags4:\n",
    "    if tag is not None:\n",
    "        price1 = float(tag.text[1:])\n",
    "        price2 = \"{:.2f}\".format(price1)\n",
    "        price.append(price2)\n",
    "    else:\n",
    "        price.append(0)\n",
    "    top10_price = price[:10]\n",
    "    return top10_price"
   ]
  },
  {
   "cell_type": "markdown",
   "metadata": {},
   "source": [
    "# Final"
   ]
  },
  {
   "cell_type": "code",
   "execution_count": null,
   "metadata": {},
   "outputs": [],
   "source": []
  },
  {
   "cell_type": "code",
   "execution_count": 98,
   "metadata": {
    "code_folding": []
   },
   "outputs": [],
   "source": [
    "#Function List\n",
    "def make_soup():\n",
    "    url = 'https://www.amazon.in/gp/bestsellers/books/?ie=UTF8&ref_=sv_ba_3'\n",
    "    headers = {\"User-Agent\":\"Mozilla/5.0 (Windows NT 10.0; Win64; x64) AppleWebKit/537.36 (KHTML, like Gecko) Chrome/109.0.0.0 Safari/537.36\", \n",
    "               \"Accept-Encoding\":\"gzip, deflate, br\", \n",
    "               \"Accept\":\"text/html,application/xhtml+xml,application/xml;q=0.9,image/avif,image/webp,image/apng,*/*;q=0.8\", \n",
    "               \"DNT\":\"1\",\n",
    "               \"Connection\":\"close\", \n",
    "               \"Upgrade-Insecure-Requests\":\"1\"}\n",
    "    response = requests.get(url, headers = headers)\n",
    "    if response.status_code != 200:\n",
    "        raise Exception('Failed to load page {}'.format(url))\n",
    "    soup = BeautifulSoup(response.text,'html.parser')\n",
    "    return soup\n",
    "\n",
    "#Book_name_and_author\n",
    "def get_book_name(soup):\n",
    "    class1 = '_cDEzb_p13n-sc-css-line-clamp-1_1Fn1y'\n",
    "    tags = soup.find_all('div',{'class': class1})\n",
    "    book_names = []    \n",
    "    tag_text =[]\n",
    "    \n",
    "    for i in tags:\n",
    "        tag_text.append(i.text)\n",
    "    top10 = tag_text[1:21]\n",
    "    \n",
    "    for index, value in enumerate(top10):\n",
    "        #print(index, value)\n",
    "        if index % 2 != 0:\n",
    "            book_names.append(value)\n",
    "    return book_names\n",
    "\n",
    "#Author\n",
    "def get_author(soup):\n",
    "    class1 = '_cDEzb_p13n-sc-css-line-clamp-1_1Fn1y'\n",
    "    tags = soup.find_all('div',{'class': class1})\n",
    "    book_author = []    \n",
    "    tag_text =[]\n",
    "    \n",
    "    for i in tags:\n",
    "        tag_text.append(i.text)\n",
    "    top10 = tag_text[:20]\n",
    "    \n",
    "    for index, value in enumerate(top10):\n",
    "        #print(index, value)\n",
    "        if index % 2 == 0:\n",
    "            book_author.append(value)\n",
    "    return book_author\n",
    "\n",
    "#Ratings\n",
    "def get_ratings(soup):\n",
    "    class2 = 'a-icon-alt'\n",
    "    tags2 = soup.find_all(\"span\",{'class': class2})\n",
    "    ratings = []\n",
    "    for tag in tags2:\n",
    "        if tag is not None:\n",
    "            ratings.append(tag.text)\n",
    "        else:\n",
    "            ratings.append(0)\n",
    "    top10_ratings = ratings[:10]\n",
    "    return top10_ratings\n",
    "\n",
    "#Customers_Rated\n",
    "def get_customers_rated(soup):\n",
    "    class3 = 'a-size-small'\n",
    "    tags3 = soup.find_all(lambda tag: tag.name == 'span' and tag.get('class') == [class3])\n",
    "    customers_rated = []\n",
    "    for tag in tags3:\n",
    "        if tag is not None:\n",
    "            new = tag.text\n",
    "            new1 = int(new.replace(',',''))\n",
    "            customers_rated.append(new1)\n",
    "        else:\n",
    "            customers_rated.append(0)\n",
    "    top10_customers_rated = customers_rated[:10]\n",
    "    return top10_customers_rated\n",
    "\n",
    "#Price\n",
    "def get_price(soup):\n",
    "    class4 = '_cDEzb_p13n-sc-price_3mJ9Z'\n",
    "    tags4 = soup.find_all(\"span\",{'class': class4})\n",
    "    price = []\n",
    "    for tag in tags4:\n",
    "        if tag is not None:\n",
    "            price1 = float(tag.text[1:])\n",
    "            price2 = \"{:.2f}\".format(price1)\n",
    "            price.append(price2)\n",
    "        else:\n",
    "            price.append(0)\n",
    "        top10_price = price[:10]\n",
    "    return top10_price\n",
    "\n",
    "#function that takes a soup and returns a Pandas Dataframe\n",
    "def make_dataframe(doc):\n",
    "    dict = {\n",
    "        'Book_Name': get_book_name(doc),\n",
    "        'Author':  get_author(doc),\n",
    "        'Ratings':  get_ratings(doc),\n",
    "        'Customers_Rated':  get_customers_rated(doc),\n",
    "        'Price':  get_price(doc),\n",
    "    }\n",
    "    return pd.DataFrame(dict)\n"
   ]
  },
  {
   "cell_type": "code",
   "execution_count": 99,
   "metadata": {
    "code_folding": []
   },
   "outputs": [
    {
     "name": "stdout",
     "output_type": "stream",
     "text": [
      "Requirement already satisfied: beautifulsoup4 in /opt/conda/lib/python3.9/site-packages (4.10.0)\r\n",
      "Requirement already satisfied: soupsieve>1.2 in /opt/conda/lib/python3.9/site-packages (from beautifulsoup4) (2.3)\r\n"
     ]
    },
    {
     "data": {
      "text/html": [
       "<div>\n",
       "<style scoped>\n",
       "    .dataframe tbody tr th:only-of-type {\n",
       "        vertical-align: middle;\n",
       "    }\n",
       "\n",
       "    .dataframe tbody tr th {\n",
       "        vertical-align: top;\n",
       "    }\n",
       "\n",
       "    .dataframe thead th {\n",
       "        text-align: right;\n",
       "    }\n",
       "</style>\n",
       "<table border=\"1\" class=\"dataframe\">\n",
       "  <thead>\n",
       "    <tr style=\"text-align: right;\">\n",
       "      <th></th>\n",
       "      <th>Book_Name</th>\n",
       "      <th>Author</th>\n",
       "      <th>Ratings</th>\n",
       "      <th>Customers_Rated</th>\n",
       "      <th>Price</th>\n",
       "    </tr>\n",
       "  </thead>\n",
       "  <tbody>\n",
       "    <tr>\n",
       "      <th>0</th>\n",
       "      <td>Atomic Habits: The life-changing million copy ...</td>\n",
       "      <td>ANKIT BHATI</td>\n",
       "      <td>5.0 out of 5 stars</td>\n",
       "      <td>1</td>\n",
       "      <td>389.00</td>\n",
       "    </tr>\n",
       "    <tr>\n",
       "      <th>1</th>\n",
       "      <td>Energize Your Mind: Learn the Art of Mastering...</td>\n",
       "      <td>James Clear</td>\n",
       "      <td>4.6 out of 5 stars</td>\n",
       "      <td>43136</td>\n",
       "      <td>197.00</td>\n",
       "    </tr>\n",
       "    <tr>\n",
       "      <th>2</th>\n",
       "      <td>The Psychology of Money</td>\n",
       "      <td>Gaur Gopal Das</td>\n",
       "      <td>4.7 out of 5 stars</td>\n",
       "      <td>282</td>\n",
       "      <td>225.00</td>\n",
       "    </tr>\n",
       "    <tr>\n",
       "      <th>3</th>\n",
       "      <td>My First Library: Boxset of 10 Board Books for...</td>\n",
       "      <td>Morgan Housel</td>\n",
       "      <td>4.6 out of 5 stars</td>\n",
       "      <td>45417</td>\n",
       "      <td>399.00</td>\n",
       "    </tr>\n",
       "    <tr>\n",
       "      <th>4</th>\n",
       "      <td>Brain Activity Book for Kids - 200+ Activities...</td>\n",
       "      <td>Wonder House Books</td>\n",
       "      <td>4.5 out of 5 stars</td>\n",
       "      <td>66704</td>\n",
       "      <td>100.00</td>\n",
       "    </tr>\n",
       "    <tr>\n",
       "      <th>5</th>\n",
       "      <td>Doglapan: The Hard Truth about Life and Start-Ups</td>\n",
       "      <td>Maple Press</td>\n",
       "      <td>4.5 out of 5 stars</td>\n",
       "      <td>2624</td>\n",
       "      <td>209.00</td>\n",
       "    </tr>\n",
       "    <tr>\n",
       "      <th>6</th>\n",
       "      <td>Everything is Psychology</td>\n",
       "      <td>Ashneer Grover</td>\n",
       "      <td>4.3 out of 5 stars</td>\n",
       "      <td>1023</td>\n",
       "      <td>278.00</td>\n",
       "    </tr>\n",
       "    <tr>\n",
       "      <th>7</th>\n",
       "      <td>Ikigai: The Japanese secret to a long and happ...</td>\n",
       "      <td>Deep Trivedi</td>\n",
       "      <td>5.0 out of 5 stars</td>\n",
       "      <td>3</td>\n",
       "      <td>370.00</td>\n",
       "    </tr>\n",
       "    <tr>\n",
       "      <th>8</th>\n",
       "      <td>My First Mythology Tale (Illustrated) (Set of ...</td>\n",
       "      <td>Héctor García</td>\n",
       "      <td>4.6 out of 5 stars</td>\n",
       "      <td>41225</td>\n",
       "      <td>178.00</td>\n",
       "    </tr>\n",
       "    <tr>\n",
       "      <th>9</th>\n",
       "      <td>Grandma's Bag of Stories: Collection of 20+ Il...</td>\n",
       "      <td>Maple Press</td>\n",
       "      <td>4.4 out of 5 stars</td>\n",
       "      <td>6315</td>\n",
       "      <td>185.00</td>\n",
       "    </tr>\n",
       "  </tbody>\n",
       "</table>\n",
       "</div>"
      ],
      "text/plain": [
       "                                           Book_Name              Author  \\\n",
       "0  Atomic Habits: The life-changing million copy ...         ANKIT BHATI   \n",
       "1  Energize Your Mind: Learn the Art of Mastering...         James Clear   \n",
       "2                            The Psychology of Money      Gaur Gopal Das   \n",
       "3  My First Library: Boxset of 10 Board Books for...       Morgan Housel   \n",
       "4  Brain Activity Book for Kids - 200+ Activities...  Wonder House Books   \n",
       "5  Doglapan: The Hard Truth about Life and Start-Ups         Maple Press   \n",
       "6                           Everything is Psychology      Ashneer Grover   \n",
       "7  Ikigai: The Japanese secret to a long and happ...        Deep Trivedi   \n",
       "8  My First Mythology Tale (Illustrated) (Set of ...       Héctor García   \n",
       "9  Grandma's Bag of Stories: Collection of 20+ Il...         Maple Press   \n",
       "\n",
       "              Ratings  Customers_Rated   Price  \n",
       "0  5.0 out of 5 stars                1  389.00  \n",
       "1  4.6 out of 5 stars            43136  197.00  \n",
       "2  4.7 out of 5 stars              282  225.00  \n",
       "3  4.6 out of 5 stars            45417  399.00  \n",
       "4  4.5 out of 5 stars            66704  100.00  \n",
       "5  4.5 out of 5 stars             2624  209.00  \n",
       "6  4.3 out of 5 stars             1023  278.00  \n",
       "7  5.0 out of 5 stars                3  370.00  \n",
       "8  4.6 out of 5 stars            41225  178.00  \n",
       "9  4.4 out of 5 stars             6315  185.00  "
      ]
     },
     "execution_count": 99,
     "metadata": {},
     "output_type": "execute_result"
    }
   ],
   "source": [
    "#Main\n",
    "!pip3 install beautifulsoup4\n",
    "\n",
    "# Importing necessary libraries\n",
    "import pandas as pd\n",
    "import numpy as np\n",
    "import matplotlib.pyplot as plt\n",
    "import seaborn as sns\n",
    "%matplotlib inline\n",
    "import re\n",
    "import time\n",
    "from datetime import datetime\n",
    "import matplotlib.dates as mdates\n",
    "import matplotlib.ticker as ticker\n",
    "from urllib.request import urlopen\n",
    "from bs4 import BeautifulSoup\n",
    "import requests\n",
    "\n",
    "soup = make_soup()\n",
    "df = make_dataframe(soup)\n",
    "\n",
    "df"
   ]
  },
  {
   "cell_type": "code",
   "execution_count": 4,
   "metadata": {
    "code_folding": [
     0
    ]
   },
   "outputs": [],
   "source": [
    "#Creating CSV\n",
    "#df.to_csv('amazon_products.csv', index=False, encoding='utf-8')"
   ]
  },
  {
   "cell_type": "code",
   "execution_count": 59,
   "metadata": {
    "code_folding": [
     0
    ]
   },
   "outputs": [],
   "source": [
    "# Reading CSV\n",
    "#df = pd.read_csv(\"amazon_products.csv\")"
   ]
  },
  {
   "cell_type": "code",
   "execution_count": 100,
   "metadata": {
    "code_folding": []
   },
   "outputs": [],
   "source": [
    "#Preprocessing\n",
    "\n",
    "df['Ratings'] = df['Ratings'].apply(lambda x: x.split()[0])\n",
    "df['Ratings'] = pd.to_numeric(df['Ratings'])\n",
    "\n",
    "# df[\"Price\"] = df[\"Price\"].str.replace('₹', '')\n",
    "# df[\"Price\"] = df[\"Price\"].str.replace(',', '')\n",
    "# df['Price'] = df['Price'].apply(lambda x: x.split('.')[0])\n",
    "# df['Price'] = df['Price'].astype(int)\n",
    "\n",
    "# df[\"Customers_Rated\"] = df[\"Customers_Rated\"].str.replace(',', '')\n",
    "# df['Customers_Rated'] = pd.to_numeric(df['Customers_Rated'], errors='ignore')\n"
   ]
  },
  {
   "cell_type": "code",
   "execution_count": 73,
   "metadata": {
    "code_folding": []
   },
   "outputs": [],
   "source": [
    "#Finding types\n",
    "#df.dtypes"
   ]
  },
  {
   "cell_type": "code",
   "execution_count": 74,
   "metadata": {
    "code_folding": [
     0
    ]
   },
   "outputs": [],
   "source": [
    "# Replacing zero value to NaN\n",
    "df.replace(str(0), np.nan, inplace=True)\n",
    "df.replace(0, np.nan, inplace=True)"
   ]
  },
  {
   "cell_type": "code",
   "execution_count": 75,
   "metadata": {
    "code_folding": [
     0
    ]
   },
   "outputs": [],
   "source": [
    "# Counting the number of NaNs and droping them\n",
    "count_nan = len(df) - df.count()\n",
    "count_nan\n",
    "df = df.dropna()\n"
   ]
  },
  {
   "cell_type": "markdown",
   "metadata": {
    "heading_collapsed": true
   },
   "source": [
    "## Authors Highest Priced Book"
   ]
  },
  {
   "cell_type": "code",
   "execution_count": 23,
   "metadata": {
    "hidden": true
   },
   "outputs": [
    {
     "data": {
      "text/html": [
       "<div>\n",
       "<style scoped>\n",
       "    .dataframe tbody tr th:only-of-type {\n",
       "        vertical-align: middle;\n",
       "    }\n",
       "\n",
       "    .dataframe tbody tr th {\n",
       "        vertical-align: top;\n",
       "    }\n",
       "\n",
       "    .dataframe thead th {\n",
       "        text-align: right;\n",
       "    }\n",
       "</style>\n",
       "<table border=\"1\" class=\"dataframe\">\n",
       "  <thead>\n",
       "    <tr style=\"text-align: right;\">\n",
       "      <th></th>\n",
       "      <th>Book_Name</th>\n",
       "      <th>Author</th>\n",
       "      <th>Ratings</th>\n",
       "      <th>Customers_Rated</th>\n",
       "      <th>Price</th>\n",
       "    </tr>\n",
       "  </thead>\n",
       "  <tbody>\n",
       "    <tr>\n",
       "      <th>0</th>\n",
       "      <td>ANKIT BHATI</td>\n",
       "      <td>Atomic Habits: The life-changing million copy ...</td>\n",
       "      <td>5.0 out of 5 stars</td>\n",
       "      <td>1</td>\n",
       "      <td>389.00</td>\n",
       "    </tr>\n",
       "    <tr>\n",
       "      <th>3</th>\n",
       "      <td>Morgan Housel</td>\n",
       "      <td>My First Library: Boxset of 10 Board Books for...</td>\n",
       "      <td>4.6 out of 5 stars</td>\n",
       "      <td>45417</td>\n",
       "      <td>379.00</td>\n",
       "    </tr>\n",
       "    <tr>\n",
       "      <th>7</th>\n",
       "      <td>Deep Trivedi</td>\n",
       "      <td>Ikigai: The Japanese secret to a long and happ...</td>\n",
       "      <td>5.0 out of 5 stars</td>\n",
       "      <td>3</td>\n",
       "      <td>370.00</td>\n",
       "    </tr>\n",
       "    <tr>\n",
       "      <th>6</th>\n",
       "      <td>Ashneer Grover</td>\n",
       "      <td>Everything is Psychology</td>\n",
       "      <td>4.3 out of 5 stars</td>\n",
       "      <td>1023</td>\n",
       "      <td>278.00</td>\n",
       "    </tr>\n",
       "    <tr>\n",
       "      <th>2</th>\n",
       "      <td>Gaur Gopal Das</td>\n",
       "      <td>The Psychology of Money</td>\n",
       "      <td>4.7 out of 5 stars</td>\n",
       "      <td>281</td>\n",
       "      <td>225.00</td>\n",
       "    </tr>\n",
       "    <tr>\n",
       "      <th>5</th>\n",
       "      <td>Maple Press</td>\n",
       "      <td>Doglapan: The Hard Truth about Life and Start-Ups</td>\n",
       "      <td>4.5 out of 5 stars</td>\n",
       "      <td>2624</td>\n",
       "      <td>209.00</td>\n",
       "    </tr>\n",
       "    <tr>\n",
       "      <th>1</th>\n",
       "      <td>James Clear</td>\n",
       "      <td>Energize Your Mind: Learn the Art of Mastering...</td>\n",
       "      <td>4.6 out of 5 stars</td>\n",
       "      <td>43136</td>\n",
       "      <td>197.00</td>\n",
       "    </tr>\n",
       "    <tr>\n",
       "      <th>9</th>\n",
       "      <td>Maple Press</td>\n",
       "      <td>Grandma's Bag of Stories: Collection of 20+ Il...</td>\n",
       "      <td>4.4 out of 5 stars</td>\n",
       "      <td>6315</td>\n",
       "      <td>185.00</td>\n",
       "    </tr>\n",
       "    <tr>\n",
       "      <th>8</th>\n",
       "      <td>Héctor García</td>\n",
       "      <td>My First Mythology Tale (Illustrated) (Set of ...</td>\n",
       "      <td>4.6 out of 5 stars</td>\n",
       "      <td>41225</td>\n",
       "      <td>178.00</td>\n",
       "    </tr>\n",
       "    <tr>\n",
       "      <th>4</th>\n",
       "      <td>Wonder House Books</td>\n",
       "      <td>Brain Activity Book for Kids - 200+ Activities...</td>\n",
       "      <td>4.5 out of 5 stars</td>\n",
       "      <td>66704</td>\n",
       "      <td>100.00</td>\n",
       "    </tr>\n",
       "  </tbody>\n",
       "</table>\n",
       "</div>"
      ],
      "text/plain": [
       "            Book_Name                                             Author  \\\n",
       "0         ANKIT BHATI  Atomic Habits: The life-changing million copy ...   \n",
       "3       Morgan Housel  My First Library: Boxset of 10 Board Books for...   \n",
       "7        Deep Trivedi  Ikigai: The Japanese secret to a long and happ...   \n",
       "6      Ashneer Grover                           Everything is Psychology   \n",
       "2      Gaur Gopal Das                            The Psychology of Money   \n",
       "5         Maple Press  Doglapan: The Hard Truth about Life and Start-Ups   \n",
       "1         James Clear  Energize Your Mind: Learn the Art of Mastering...   \n",
       "9         Maple Press  Grandma's Bag of Stories: Collection of 20+ Il...   \n",
       "8       Héctor García  My First Mythology Tale (Illustrated) (Set of ...   \n",
       "4  Wonder House Books  Brain Activity Book for Kids - 200+ Activities...   \n",
       "\n",
       "              Ratings  Customers_Rated   Price  \n",
       "0  5.0 out of 5 stars                1  389.00  \n",
       "3  4.6 out of 5 stars            45417  379.00  \n",
       "7  5.0 out of 5 stars                3  370.00  \n",
       "6  4.3 out of 5 stars             1023  278.00  \n",
       "2  4.7 out of 5 stars              281  225.00  \n",
       "5  4.5 out of 5 stars             2624  209.00  \n",
       "1  4.6 out of 5 stars            43136  197.00  \n",
       "9  4.4 out of 5 stars             6315  185.00  \n",
       "8  4.6 out of 5 stars            41225  178.00  \n",
       "4  4.5 out of 5 stars            66704  100.00  "
      ]
     },
     "execution_count": 23,
     "metadata": {},
     "output_type": "execute_result"
    }
   ],
   "source": [
    "data = df.sort_values([\"Price\"], axis=0, ascending=False)[:15]"
   ]
  },
  {
   "cell_type": "code",
   "execution_count": 16,
   "metadata": {
    "hidden": true
   },
   "outputs": [
    {
     "data": {
      "text/html": [
       "\n",
       "    <div class=\"bk-root\">\n",
       "        <a href=\"https://bokeh.org\" target=\"_blank\" class=\"bk-logo bk-logo-small bk-logo-notebook\"></a>\n",
       "        <span id=\"1127\">Loading BokehJS ...</span>\n",
       "    </div>"
      ]
     },
     "metadata": {},
     "output_type": "display_data"
    },
    {
     "data": {
      "application/javascript": [
       "\n",
       "(function(root) {\n",
       "  function now() {\n",
       "    return new Date();\n",
       "  }\n",
       "\n",
       "  const force = true;\n",
       "\n",
       "  if (typeof root._bokeh_onload_callbacks === \"undefined\" || force === true) {\n",
       "    root._bokeh_onload_callbacks = [];\n",
       "    root._bokeh_is_loading = undefined;\n",
       "  }\n",
       "\n",
       "  const JS_MIME_TYPE = 'application/javascript';\n",
       "  const HTML_MIME_TYPE = 'text/html';\n",
       "  const EXEC_MIME_TYPE = 'application/vnd.bokehjs_exec.v0+json';\n",
       "  const CLASS_NAME = 'output_bokeh rendered_html';\n",
       "\n",
       "  /**\n",
       "   * Render data to the DOM node\n",
       "   */\n",
       "  function render(props, node) {\n",
       "    const script = document.createElement(\"script\");\n",
       "    node.appendChild(script);\n",
       "  }\n",
       "\n",
       "  /**\n",
       "   * Handle when an output is cleared or removed\n",
       "   */\n",
       "  function handleClearOutput(event, handle) {\n",
       "    const cell = handle.cell;\n",
       "\n",
       "    const id = cell.output_area._bokeh_element_id;\n",
       "    const server_id = cell.output_area._bokeh_server_id;\n",
       "    // Clean up Bokeh references\n",
       "    if (id != null && id in Bokeh.index) {\n",
       "      Bokeh.index[id].model.document.clear();\n",
       "      delete Bokeh.index[id];\n",
       "    }\n",
       "\n",
       "    if (server_id !== undefined) {\n",
       "      // Clean up Bokeh references\n",
       "      const cmd_clean = \"from bokeh.io.state import curstate; print(curstate().uuid_to_server['\" + server_id + \"'].get_sessions()[0].document.roots[0]._id)\";\n",
       "      cell.notebook.kernel.execute(cmd_clean, {\n",
       "        iopub: {\n",
       "          output: function(msg) {\n",
       "            const id = msg.content.text.trim();\n",
       "            if (id in Bokeh.index) {\n",
       "              Bokeh.index[id].model.document.clear();\n",
       "              delete Bokeh.index[id];\n",
       "            }\n",
       "          }\n",
       "        }\n",
       "      });\n",
       "      // Destroy server and session\n",
       "      const cmd_destroy = \"import bokeh.io.notebook as ion; ion.destroy_server('\" + server_id + \"')\";\n",
       "      cell.notebook.kernel.execute(cmd_destroy);\n",
       "    }\n",
       "  }\n",
       "\n",
       "  /**\n",
       "   * Handle when a new output is added\n",
       "   */\n",
       "  function handleAddOutput(event, handle) {\n",
       "    const output_area = handle.output_area;\n",
       "    const output = handle.output;\n",
       "\n",
       "    // limit handleAddOutput to display_data with EXEC_MIME_TYPE content only\n",
       "    if ((output.output_type != \"display_data\") || (!Object.prototype.hasOwnProperty.call(output.data, EXEC_MIME_TYPE))) {\n",
       "      return\n",
       "    }\n",
       "\n",
       "    const toinsert = output_area.element.find(\".\" + CLASS_NAME.split(' ')[0]);\n",
       "\n",
       "    if (output.metadata[EXEC_MIME_TYPE][\"id\"] !== undefined) {\n",
       "      toinsert[toinsert.length - 1].firstChild.textContent = output.data[JS_MIME_TYPE];\n",
       "      // store reference to embed id on output_area\n",
       "      output_area._bokeh_element_id = output.metadata[EXEC_MIME_TYPE][\"id\"];\n",
       "    }\n",
       "    if (output.metadata[EXEC_MIME_TYPE][\"server_id\"] !== undefined) {\n",
       "      const bk_div = document.createElement(\"div\");\n",
       "      bk_div.innerHTML = output.data[HTML_MIME_TYPE];\n",
       "      const script_attrs = bk_div.children[0].attributes;\n",
       "      for (let i = 0; i < script_attrs.length; i++) {\n",
       "        toinsert[toinsert.length - 1].firstChild.setAttribute(script_attrs[i].name, script_attrs[i].value);\n",
       "        toinsert[toinsert.length - 1].firstChild.textContent = bk_div.children[0].textContent\n",
       "      }\n",
       "      // store reference to server id on output_area\n",
       "      output_area._bokeh_server_id = output.metadata[EXEC_MIME_TYPE][\"server_id\"];\n",
       "    }\n",
       "  }\n",
       "\n",
       "  function register_renderer(events, OutputArea) {\n",
       "\n",
       "    function append_mime(data, metadata, element) {\n",
       "      // create a DOM node to render to\n",
       "      const toinsert = this.create_output_subarea(\n",
       "        metadata,\n",
       "        CLASS_NAME,\n",
       "        EXEC_MIME_TYPE\n",
       "      );\n",
       "      this.keyboard_manager.register_events(toinsert);\n",
       "      // Render to node\n",
       "      const props = {data: data, metadata: metadata[EXEC_MIME_TYPE]};\n",
       "      render(props, toinsert[toinsert.length - 1]);\n",
       "      element.append(toinsert);\n",
       "      return toinsert\n",
       "    }\n",
       "\n",
       "    /* Handle when an output is cleared or removed */\n",
       "    events.on('clear_output.CodeCell', handleClearOutput);\n",
       "    events.on('delete.Cell', handleClearOutput);\n",
       "\n",
       "    /* Handle when a new output is added */\n",
       "    events.on('output_added.OutputArea', handleAddOutput);\n",
       "\n",
       "    /**\n",
       "     * Register the mime type and append_mime function with output_area\n",
       "     */\n",
       "    OutputArea.prototype.register_mime_type(EXEC_MIME_TYPE, append_mime, {\n",
       "      /* Is output safe? */\n",
       "      safe: true,\n",
       "      /* Index of renderer in `output_area.display_order` */\n",
       "      index: 0\n",
       "    });\n",
       "  }\n",
       "\n",
       "  // register the mime type if in Jupyter Notebook environment and previously unregistered\n",
       "  if (root.Jupyter !== undefined) {\n",
       "    const events = require('base/js/events');\n",
       "    const OutputArea = require('notebook/js/outputarea').OutputArea;\n",
       "\n",
       "    if (OutputArea.prototype.mime_types().indexOf(EXEC_MIME_TYPE) == -1) {\n",
       "      register_renderer(events, OutputArea);\n",
       "    }\n",
       "  }\n",
       "\n",
       "  \n",
       "  if (typeof (root._bokeh_timeout) === \"undefined\" || force === true) {\n",
       "    root._bokeh_timeout = Date.now() + 5000;\n",
       "    root._bokeh_failed_load = false;\n",
       "  }\n",
       "\n",
       "  const NB_LOAD_WARNING = {'data': {'text/html':\n",
       "     \"<div style='background-color: #fdd'>\\n\"+\n",
       "     \"<p>\\n\"+\n",
       "     \"BokehJS does not appear to have successfully loaded. If loading BokehJS from CDN, this \\n\"+\n",
       "     \"may be due to a slow or bad network connection. Possible fixes:\\n\"+\n",
       "     \"</p>\\n\"+\n",
       "     \"<ul>\\n\"+\n",
       "     \"<li>re-rerun `output_notebook()` to attempt to load from CDN again, or</li>\\n\"+\n",
       "     \"<li>use INLINE resources instead, as so:</li>\\n\"+\n",
       "     \"</ul>\\n\"+\n",
       "     \"<code>\\n\"+\n",
       "     \"from bokeh.resources import INLINE\\n\"+\n",
       "     \"output_notebook(resources=INLINE)\\n\"+\n",
       "     \"</code>\\n\"+\n",
       "     \"</div>\"}};\n",
       "\n",
       "  function display_loaded() {\n",
       "    const el = document.getElementById(\"1127\");\n",
       "    if (el != null) {\n",
       "      el.textContent = \"BokehJS is loading...\";\n",
       "    }\n",
       "    if (root.Bokeh !== undefined) {\n",
       "      if (el != null) {\n",
       "        el.textContent = \"BokehJS \" + root.Bokeh.version + \" successfully loaded.\";\n",
       "      }\n",
       "    } else if (Date.now() < root._bokeh_timeout) {\n",
       "      setTimeout(display_loaded, 100)\n",
       "    }\n",
       "  }\n",
       "\n",
       "\n",
       "  function run_callbacks() {\n",
       "    try {\n",
       "      root._bokeh_onload_callbacks.forEach(function(callback) {\n",
       "        if (callback != null)\n",
       "          callback();\n",
       "      });\n",
       "    } finally {\n",
       "      delete root._bokeh_onload_callbacks\n",
       "    }\n",
       "    console.debug(\"Bokeh: all callbacks have finished\");\n",
       "  }\n",
       "\n",
       "  function load_libs(css_urls, js_urls, callback) {\n",
       "    if (css_urls == null) css_urls = [];\n",
       "    if (js_urls == null) js_urls = [];\n",
       "\n",
       "    root._bokeh_onload_callbacks.push(callback);\n",
       "    if (root._bokeh_is_loading > 0) {\n",
       "      console.debug(\"Bokeh: BokehJS is being loaded, scheduling callback at\", now());\n",
       "      return null;\n",
       "    }\n",
       "    if (js_urls == null || js_urls.length === 0) {\n",
       "      run_callbacks();\n",
       "      return null;\n",
       "    }\n",
       "    console.debug(\"Bokeh: BokehJS not loaded, scheduling load and callback at\", now());\n",
       "    root._bokeh_is_loading = css_urls.length + js_urls.length;\n",
       "\n",
       "    function on_load() {\n",
       "      root._bokeh_is_loading--;\n",
       "      if (root._bokeh_is_loading === 0) {\n",
       "        console.debug(\"Bokeh: all BokehJS libraries/stylesheets loaded\");\n",
       "        run_callbacks()\n",
       "      }\n",
       "    }\n",
       "\n",
       "    function on_error(url) {\n",
       "      console.error(\"failed to load \" + url);\n",
       "    }\n",
       "\n",
       "    for (let i = 0; i < css_urls.length; i++) {\n",
       "      const url = css_urls[i];\n",
       "      const element = document.createElement(\"link\");\n",
       "      element.onload = on_load;\n",
       "      element.onerror = on_error.bind(null, url);\n",
       "      element.rel = \"stylesheet\";\n",
       "      element.type = \"text/css\";\n",
       "      element.href = url;\n",
       "      console.debug(\"Bokeh: injecting link tag for BokehJS stylesheet: \", url);\n",
       "      document.body.appendChild(element);\n",
       "    }\n",
       "\n",
       "    for (let i = 0; i < js_urls.length; i++) {\n",
       "      const url = js_urls[i];\n",
       "      const element = document.createElement('script');\n",
       "      element.onload = on_load;\n",
       "      element.onerror = on_error.bind(null, url);\n",
       "      element.async = false;\n",
       "      element.src = url;\n",
       "      console.debug(\"Bokeh: injecting script tag for BokehJS library: \", url);\n",
       "      document.head.appendChild(element);\n",
       "    }\n",
       "  };\n",
       "\n",
       "  function inject_raw_css(css) {\n",
       "    const element = document.createElement(\"style\");\n",
       "    element.appendChild(document.createTextNode(css));\n",
       "    document.body.appendChild(element);\n",
       "  }\n",
       "\n",
       "  \n",
       "  const js_urls = [\"https://cdn.bokeh.org/bokeh/release/bokeh-2.4.1.min.js\", \"https://cdn.bokeh.org/bokeh/release/bokeh-gl-2.4.1.min.js\", \"https://cdn.bokeh.org/bokeh/release/bokeh-widgets-2.4.1.min.js\", \"https://cdn.bokeh.org/bokeh/release/bokeh-tables-2.4.1.min.js\", \"https://cdn.bokeh.org/bokeh/release/bokeh-mathjax-2.4.1.min.js\"];\n",
       "  const css_urls = [];\n",
       "  \n",
       "\n",
       "  const inline_js = [\n",
       "    function(Bokeh) {\n",
       "      Bokeh.set_log_level(\"info\");\n",
       "    },\n",
       "    function(Bokeh) {\n",
       "    \n",
       "    \n",
       "    }\n",
       "  ];\n",
       "\n",
       "  function run_inline_js() {\n",
       "    \n",
       "    if (root.Bokeh !== undefined || force === true) {\n",
       "      \n",
       "    for (let i = 0; i < inline_js.length; i++) {\n",
       "      inline_js[i].call(root, root.Bokeh);\n",
       "    }\n",
       "    if (force === true) {\n",
       "        display_loaded();\n",
       "      }} else if (Date.now() < root._bokeh_timeout) {\n",
       "      setTimeout(run_inline_js, 100);\n",
       "    } else if (!root._bokeh_failed_load) {\n",
       "      console.log(\"Bokeh: BokehJS failed to load within specified timeout.\");\n",
       "      root._bokeh_failed_load = true;\n",
       "    } else if (force !== true) {\n",
       "      const cell = $(document.getElementById(\"1127\")).parents('.cell').data().cell;\n",
       "      cell.output_area.append_execute_result(NB_LOAD_WARNING)\n",
       "    }\n",
       "\n",
       "  }\n",
       "\n",
       "  if (root._bokeh_is_loading === 0) {\n",
       "    console.debug(\"Bokeh: BokehJS loaded, going straight to plotting\");\n",
       "    run_inline_js();\n",
       "  } else {\n",
       "    load_libs(css_urls, js_urls, function() {\n",
       "      console.debug(\"Bokeh: BokehJS plotting callback run at\", now());\n",
       "      run_inline_js();\n",
       "    });\n",
       "  }\n",
       "}(window));"
      ],
      "application/vnd.bokehjs_load.v0+json": "\n(function(root) {\n  function now() {\n    return new Date();\n  }\n\n  const force = true;\n\n  if (typeof root._bokeh_onload_callbacks === \"undefined\" || force === true) {\n    root._bokeh_onload_callbacks = [];\n    root._bokeh_is_loading = undefined;\n  }\n\n  \n\n  \n  if (typeof (root._bokeh_timeout) === \"undefined\" || force === true) {\n    root._bokeh_timeout = Date.now() + 5000;\n    root._bokeh_failed_load = false;\n  }\n\n  const NB_LOAD_WARNING = {'data': {'text/html':\n     \"<div style='background-color: #fdd'>\\n\"+\n     \"<p>\\n\"+\n     \"BokehJS does not appear to have successfully loaded. If loading BokehJS from CDN, this \\n\"+\n     \"may be due to a slow or bad network connection. Possible fixes:\\n\"+\n     \"</p>\\n\"+\n     \"<ul>\\n\"+\n     \"<li>re-rerun `output_notebook()` to attempt to load from CDN again, or</li>\\n\"+\n     \"<li>use INLINE resources instead, as so:</li>\\n\"+\n     \"</ul>\\n\"+\n     \"<code>\\n\"+\n     \"from bokeh.resources import INLINE\\n\"+\n     \"output_notebook(resources=INLINE)\\n\"+\n     \"</code>\\n\"+\n     \"</div>\"}};\n\n  function display_loaded() {\n    const el = document.getElementById(\"1127\");\n    if (el != null) {\n      el.textContent = \"BokehJS is loading...\";\n    }\n    if (root.Bokeh !== undefined) {\n      if (el != null) {\n        el.textContent = \"BokehJS \" + root.Bokeh.version + \" successfully loaded.\";\n      }\n    } else if (Date.now() < root._bokeh_timeout) {\n      setTimeout(display_loaded, 100)\n    }\n  }\n\n\n  function run_callbacks() {\n    try {\n      root._bokeh_onload_callbacks.forEach(function(callback) {\n        if (callback != null)\n          callback();\n      });\n    } finally {\n      delete root._bokeh_onload_callbacks\n    }\n    console.debug(\"Bokeh: all callbacks have finished\");\n  }\n\n  function load_libs(css_urls, js_urls, callback) {\n    if (css_urls == null) css_urls = [];\n    if (js_urls == null) js_urls = [];\n\n    root._bokeh_onload_callbacks.push(callback);\n    if (root._bokeh_is_loading > 0) {\n      console.debug(\"Bokeh: BokehJS is being loaded, scheduling callback at\", now());\n      return null;\n    }\n    if (js_urls == null || js_urls.length === 0) {\n      run_callbacks();\n      return null;\n    }\n    console.debug(\"Bokeh: BokehJS not loaded, scheduling load and callback at\", now());\n    root._bokeh_is_loading = css_urls.length + js_urls.length;\n\n    function on_load() {\n      root._bokeh_is_loading--;\n      if (root._bokeh_is_loading === 0) {\n        console.debug(\"Bokeh: all BokehJS libraries/stylesheets loaded\");\n        run_callbacks()\n      }\n    }\n\n    function on_error(url) {\n      console.error(\"failed to load \" + url);\n    }\n\n    for (let i = 0; i < css_urls.length; i++) {\n      const url = css_urls[i];\n      const element = document.createElement(\"link\");\n      element.onload = on_load;\n      element.onerror = on_error.bind(null, url);\n      element.rel = \"stylesheet\";\n      element.type = \"text/css\";\n      element.href = url;\n      console.debug(\"Bokeh: injecting link tag for BokehJS stylesheet: \", url);\n      document.body.appendChild(element);\n    }\n\n    for (let i = 0; i < js_urls.length; i++) {\n      const url = js_urls[i];\n      const element = document.createElement('script');\n      element.onload = on_load;\n      element.onerror = on_error.bind(null, url);\n      element.async = false;\n      element.src = url;\n      console.debug(\"Bokeh: injecting script tag for BokehJS library: \", url);\n      document.head.appendChild(element);\n    }\n  };\n\n  function inject_raw_css(css) {\n    const element = document.createElement(\"style\");\n    element.appendChild(document.createTextNode(css));\n    document.body.appendChild(element);\n  }\n\n  \n  const js_urls = [\"https://cdn.bokeh.org/bokeh/release/bokeh-2.4.1.min.js\", \"https://cdn.bokeh.org/bokeh/release/bokeh-gl-2.4.1.min.js\", \"https://cdn.bokeh.org/bokeh/release/bokeh-widgets-2.4.1.min.js\", \"https://cdn.bokeh.org/bokeh/release/bokeh-tables-2.4.1.min.js\", \"https://cdn.bokeh.org/bokeh/release/bokeh-mathjax-2.4.1.min.js\"];\n  const css_urls = [];\n  \n\n  const inline_js = [\n    function(Bokeh) {\n      Bokeh.set_log_level(\"info\");\n    },\n    function(Bokeh) {\n    \n    \n    }\n  ];\n\n  function run_inline_js() {\n    \n    if (root.Bokeh !== undefined || force === true) {\n      \n    for (let i = 0; i < inline_js.length; i++) {\n      inline_js[i].call(root, root.Bokeh);\n    }\n    if (force === true) {\n        display_loaded();\n      }} else if (Date.now() < root._bokeh_timeout) {\n      setTimeout(run_inline_js, 100);\n    } else if (!root._bokeh_failed_load) {\n      console.log(\"Bokeh: BokehJS failed to load within specified timeout.\");\n      root._bokeh_failed_load = true;\n    } else if (force !== true) {\n      const cell = $(document.getElementById(\"1127\")).parents('.cell').data().cell;\n      cell.output_area.append_execute_result(NB_LOAD_WARNING)\n    }\n\n  }\n\n  if (root._bokeh_is_loading === 0) {\n    console.debug(\"Bokeh: BokehJS loaded, going straight to plotting\");\n    run_inline_js();\n  } else {\n    load_libs(css_urls, js_urls, function() {\n      console.debug(\"Bokeh: BokehJS plotting callback run at\", now());\n      run_inline_js();\n    });\n  }\n}(window));"
     },
     "metadata": {},
     "output_type": "display_data"
    }
   ],
   "source": [
    "from bokeh.models import ColumnDataSource\n",
    "from bokeh.transform import dodge\n",
    "import math\n",
    "from bokeh.io import curdoc\n",
    "curdoc().clear()\n",
    "from bokeh.io import push_notebook, show, output_notebook\n",
    "from bokeh.layouts import row\n",
    "from bokeh.plotting import figure\n",
    "from bokeh.transform import factor_cmap\n",
    "from bokeh.models import Legend\n",
    "output_notebook()"
   ]
  },
  {
   "cell_type": "code",
   "execution_count": 64,
   "metadata": {
    "hidden": true
   },
   "outputs": [],
   "source": [
    "p = figure(x_range=data.iloc[:,1], plot_width=600, plot_height=450, title=\"Authors Highest Priced Book\", toolbar_location=None, tools=\"\")\n",
    "\n",
    "p.vbar(x=data.iloc[:,1], top=data.iloc[:,4], width=0.9)\n",
    "\n",
    "p.xgrid.grid_line_color = None\n",
    "p.y_range.start = 0"
   ]
  },
  {
   "cell_type": "code",
   "execution_count": 65,
   "metadata": {
    "hidden": true
   },
   "outputs": [
    {
     "data": {
      "text/html": [
       "\n",
       "\n",
       "\n",
       "\n",
       "\n",
       "\n",
       "  <div class=\"bk-root\" id=\"3a833b4a-a733-4c4b-aecb-c2e97aa83d2d\" data-root-id=\"3033\"></div>\n"
      ]
     },
     "metadata": {},
     "output_type": "display_data"
    },
    {
     "data": {
      "application/javascript": [
       "(function(root) {\n",
       "  function embed_document(root) {\n",
       "    \n",
       "  const docs_json = {\"2440220b-f642-4883-b8fb-2f59bfadcdab\":{\"defs\":[],\"roots\":{\"references\":[{\"attributes\":{\"below\":[{\"id\":\"3044\"}],\"center\":[{\"id\":\"3046\"},{\"id\":\"3050\"}],\"height\":450,\"left\":[{\"id\":\"3047\"}],\"renderers\":[{\"id\":\"3056\"}],\"title\":{\"id\":\"3034\"},\"toolbar\":{\"id\":\"3051\"},\"toolbar_location\":null,\"x_range\":{\"id\":\"3036\"},\"x_scale\":{\"id\":\"3040\"},\"y_range\":{\"id\":\"3038\"},\"y_scale\":{\"id\":\"3042\"}},\"id\":\"3033\",\"subtype\":\"Figure\",\"type\":\"Plot\"},{\"attributes\":{\"factors\":[\"Atomic Habits: The life-changing million copy bestseller [Paperback] James Clear\",\"My First Library: Boxset of 10 Board Books for Kids\",\"Ikigai: The Japanese secret to a long and happy life [Hardcover] Garc\\u00eda, H\\u00e9ctor and Miralles, Francesc\",\"Everything is Psychology\",\"The Psychology of Money\",\"Doglapan: The Hard Truth about Life and Start-Ups\",\"Energize Your Mind: Learn the Art of Mastering Your Thoughts, Feelings and Emotions\",\"Grandma's Bag of Stories: Collection of 20+ Illustrated short stories, traditional Indian folk tales for all ages for children of all ages by Sudha Murty [Paperback] Sudha Murty\",\"My First Mythology Tale (Illustrated) (Set of 5 Books) - Mahabharata, Krishna, Hanuman, Ganesha, Ramayana - Story Book for Kids - English Short Stories with Colourful Pictures - Read Aloud to Infants, Toddlers\",\"Brain Activity Book for Kids - 200+ Activities for Age 3+\"]},\"id\":\"3036\",\"type\":\"FactorRange\"},{\"attributes\":{\"fill_alpha\":{\"value\":0.1},\"fill_color\":{\"value\":\"#1f77b4\"},\"hatch_alpha\":{\"value\":0.1},\"line_alpha\":{\"value\":0.1},\"line_color\":{\"value\":\"#1f77b4\"},\"top\":{\"field\":\"top\"},\"width\":{\"value\":0.9},\"x\":{\"field\":\"x\"}},\"id\":\"3054\",\"type\":\"VBar\"},{\"attributes\":{},\"id\":\"3178\",\"type\":\"AllLabels\"},{\"attributes\":{},\"id\":\"3179\",\"type\":\"UnionRenderers\"},{\"attributes\":{},\"id\":\"3175\",\"type\":\"AllLabels\"},{\"attributes\":{\"start\":0},\"id\":\"3038\",\"type\":\"DataRange1d\"},{\"attributes\":{},\"id\":\"3174\",\"type\":\"BasicTickFormatter\"},{\"attributes\":{},\"id\":\"3177\",\"type\":\"CategoricalTickFormatter\"},{\"attributes\":{},\"id\":\"3051\",\"type\":\"Toolbar\"},{\"attributes\":{},\"id\":\"3042\",\"type\":\"LinearScale\"},{\"attributes\":{\"data\":{\"top\":[\"389.00\",\"379.00\",\"370.00\",\"278.00\",\"225.00\",\"209.00\",\"197.00\",\"185.00\",\"178.00\",\"100.00\"],\"x\":[\"Atomic Habits: The life-changing million copy bestseller [Paperback] James Clear\",\"My First Library: Boxset of 10 Board Books for Kids\",\"Ikigai: The Japanese secret to a long and happy life [Hardcover] Garc\\u00eda, H\\u00e9ctor and Miralles, Francesc\",\"Everything is Psychology\",\"The Psychology of Money\",\"Doglapan: The Hard Truth about Life and Start-Ups\",\"Energize Your Mind: Learn the Art of Mastering Your Thoughts, Feelings and Emotions\",\"Grandma's Bag of Stories: Collection of 20+ Illustrated short stories, traditional Indian folk tales for all ages for children of all ages by Sudha Murty [Paperback] Sudha Murty\",\"My First Mythology Tale (Illustrated) (Set of 5 Books) - Mahabharata, Krishna, Hanuman, Ganesha, Ramayana - Story Book for Kids - English Short Stories with Colourful Pictures - Read Aloud to Infants, Toddlers\",\"Brain Activity Book for Kids - 200+ Activities for Age 3+\"]},\"selected\":{\"id\":\"3180\"},\"selection_policy\":{\"id\":\"3179\"}},\"id\":\"3052\",\"type\":\"ColumnDataSource\"},{\"attributes\":{\"coordinates\":null,\"formatter\":{\"id\":\"3177\"},\"group\":null,\"major_label_policy\":{\"id\":\"3178\"},\"ticker\":{\"id\":\"3045\"}},\"id\":\"3044\",\"type\":\"CategoricalAxis\"},{\"attributes\":{},\"id\":\"3040\",\"type\":\"CategoricalScale\"},{\"attributes\":{\"coordinates\":null,\"formatter\":{\"id\":\"3174\"},\"group\":null,\"major_label_policy\":{\"id\":\"3175\"},\"ticker\":{\"id\":\"3048\"}},\"id\":\"3047\",\"type\":\"LinearAxis\"},{\"attributes\":{\"coordinates\":null,\"group\":null,\"text\":\"Authors Highest Priced Book\"},\"id\":\"3034\",\"type\":\"Title\"},{\"attributes\":{},\"id\":\"3180\",\"type\":\"Selection\"},{\"attributes\":{},\"id\":\"3045\",\"type\":\"CategoricalTicker\"},{\"attributes\":{\"fill_alpha\":{\"value\":0.2},\"fill_color\":{\"value\":\"#1f77b4\"},\"hatch_alpha\":{\"value\":0.2},\"line_alpha\":{\"value\":0.2},\"line_color\":{\"value\":\"#1f77b4\"},\"top\":{\"field\":\"top\"},\"width\":{\"value\":0.9},\"x\":{\"field\":\"x\"}},\"id\":\"3055\",\"type\":\"VBar\"},{\"attributes\":{\"axis\":{\"id\":\"3044\"},\"coordinates\":null,\"grid_line_color\":null,\"group\":null,\"ticker\":null},\"id\":\"3046\",\"type\":\"Grid\"},{\"attributes\":{},\"id\":\"3048\",\"type\":\"BasicTicker\"},{\"attributes\":{\"axis\":{\"id\":\"3047\"},\"coordinates\":null,\"dimension\":1,\"group\":null,\"ticker\":null},\"id\":\"3050\",\"type\":\"Grid\"},{\"attributes\":{\"fill_color\":{\"value\":\"#1f77b4\"},\"line_color\":{\"value\":\"#1f77b4\"},\"top\":{\"field\":\"top\"},\"width\":{\"value\":0.9},\"x\":{\"field\":\"x\"}},\"id\":\"3053\",\"type\":\"VBar\"},{\"attributes\":{\"coordinates\":null,\"data_source\":{\"id\":\"3052\"},\"glyph\":{\"id\":\"3053\"},\"group\":null,\"hover_glyph\":null,\"muted_glyph\":{\"id\":\"3055\"},\"nonselection_glyph\":{\"id\":\"3054\"},\"view\":{\"id\":\"3057\"}},\"id\":\"3056\",\"type\":\"GlyphRenderer\"},{\"attributes\":{\"source\":{\"id\":\"3052\"}},\"id\":\"3057\",\"type\":\"CDSView\"}],\"root_ids\":[\"3033\"]},\"title\":\"Bokeh Application\",\"version\":\"2.4.1\"}};\n",
       "  const render_items = [{\"docid\":\"2440220b-f642-4883-b8fb-2f59bfadcdab\",\"root_ids\":[\"3033\"],\"roots\":{\"3033\":\"3a833b4a-a733-4c4b-aecb-c2e97aa83d2d\"}}];\n",
       "  root.Bokeh.embed.embed_items_notebook(docs_json, render_items);\n",
       "\n",
       "  }\n",
       "  if (root.Bokeh !== undefined) {\n",
       "    embed_document(root);\n",
       "  } else {\n",
       "    let attempts = 0;\n",
       "    const timer = setInterval(function(root) {\n",
       "      if (root.Bokeh !== undefined) {\n",
       "        clearInterval(timer);\n",
       "        embed_document(root);\n",
       "      } else {\n",
       "        attempts++;\n",
       "        if (attempts > 100) {\n",
       "          clearInterval(timer);\n",
       "          console.log(\"Bokeh: ERROR: Unable to run BokehJS code because BokehJS library is missing\");\n",
       "        }\n",
       "      }\n",
       "    }, 10, root)\n",
       "  }\n",
       "})(window);"
      ],
      "application/vnd.bokehjs_exec.v0+json": ""
     },
     "metadata": {
      "application/vnd.bokehjs_exec.v0+json": {
       "id": "3033"
      }
     },
     "output_type": "display_data"
    }
   ],
   "source": [
    "show(p)"
   ]
  },
  {
   "cell_type": "markdown",
   "metadata": {},
   "source": [
    "## Top Rated Books and Authors wrt Customers Rated"
   ]
  },
  {
   "cell_type": "code",
   "execution_count": 101,
   "metadata": {},
   "outputs": [],
   "source": [
    "data = df[df['Customers_Rated'] > 1000]"
   ]
  },
  {
   "cell_type": "code",
   "execution_count": 102,
   "metadata": {},
   "outputs": [
    {
     "data": {
      "text/html": [
       "<div>\n",
       "<style scoped>\n",
       "    .dataframe tbody tr th:only-of-type {\n",
       "        vertical-align: middle;\n",
       "    }\n",
       "\n",
       "    .dataframe tbody tr th {\n",
       "        vertical-align: top;\n",
       "    }\n",
       "\n",
       "    .dataframe thead th {\n",
       "        text-align: right;\n",
       "    }\n",
       "</style>\n",
       "<table border=\"1\" class=\"dataframe\">\n",
       "  <thead>\n",
       "    <tr style=\"text-align: right;\">\n",
       "      <th></th>\n",
       "      <th>Book_Name</th>\n",
       "      <th>Author</th>\n",
       "      <th>Ratings</th>\n",
       "      <th>Customers_Rated</th>\n",
       "      <th>Price</th>\n",
       "    </tr>\n",
       "  </thead>\n",
       "  <tbody>\n",
       "    <tr>\n",
       "      <th>1</th>\n",
       "      <td>Energize Your Mind: Learn the Art of Mastering...</td>\n",
       "      <td>James Clear</td>\n",
       "      <td>4.6</td>\n",
       "      <td>43136</td>\n",
       "      <td>197.00</td>\n",
       "    </tr>\n",
       "    <tr>\n",
       "      <th>3</th>\n",
       "      <td>My First Library: Boxset of 10 Board Books for...</td>\n",
       "      <td>Morgan Housel</td>\n",
       "      <td>4.6</td>\n",
       "      <td>45417</td>\n",
       "      <td>399.00</td>\n",
       "    </tr>\n",
       "    <tr>\n",
       "      <th>8</th>\n",
       "      <td>My First Mythology Tale (Illustrated) (Set of ...</td>\n",
       "      <td>Héctor García</td>\n",
       "      <td>4.6</td>\n",
       "      <td>41225</td>\n",
       "      <td>178.00</td>\n",
       "    </tr>\n",
       "    <tr>\n",
       "      <th>4</th>\n",
       "      <td>Brain Activity Book for Kids - 200+ Activities...</td>\n",
       "      <td>Wonder House Books</td>\n",
       "      <td>4.5</td>\n",
       "      <td>66704</td>\n",
       "      <td>100.00</td>\n",
       "    </tr>\n",
       "    <tr>\n",
       "      <th>5</th>\n",
       "      <td>Doglapan: The Hard Truth about Life and Start-Ups</td>\n",
       "      <td>Maple Press</td>\n",
       "      <td>4.5</td>\n",
       "      <td>2624</td>\n",
       "      <td>209.00</td>\n",
       "    </tr>\n",
       "    <tr>\n",
       "      <th>9</th>\n",
       "      <td>Grandma's Bag of Stories: Collection of 20+ Il...</td>\n",
       "      <td>Maple Press</td>\n",
       "      <td>4.4</td>\n",
       "      <td>6315</td>\n",
       "      <td>185.00</td>\n",
       "    </tr>\n",
       "    <tr>\n",
       "      <th>6</th>\n",
       "      <td>Everything is Psychology</td>\n",
       "      <td>Ashneer Grover</td>\n",
       "      <td>4.3</td>\n",
       "      <td>1023</td>\n",
       "      <td>278.00</td>\n",
       "    </tr>\n",
       "  </tbody>\n",
       "</table>\n",
       "</div>"
      ],
      "text/plain": [
       "                                           Book_Name              Author  \\\n",
       "1  Energize Your Mind: Learn the Art of Mastering...         James Clear   \n",
       "3  My First Library: Boxset of 10 Board Books for...       Morgan Housel   \n",
       "8  My First Mythology Tale (Illustrated) (Set of ...       Héctor García   \n",
       "4  Brain Activity Book for Kids - 200+ Activities...  Wonder House Books   \n",
       "5  Doglapan: The Hard Truth about Life and Start-Ups         Maple Press   \n",
       "9  Grandma's Bag of Stories: Collection of 20+ Il...         Maple Press   \n",
       "6                           Everything is Psychology      Ashneer Grover   \n",
       "\n",
       "   Ratings  Customers_Rated   Price  \n",
       "1      4.6            43136  197.00  \n",
       "3      4.6            45417  399.00  \n",
       "8      4.6            41225  178.00  \n",
       "4      4.5            66704  100.00  \n",
       "5      4.5             2624  209.00  \n",
       "9      4.4             6315  185.00  \n",
       "6      4.3             1023  278.00  "
      ]
     },
     "execution_count": 102,
     "metadata": {},
     "output_type": "execute_result"
    }
   ],
   "source": [
    "data = data.sort_values(['Ratings'],axis=0, ascending=False)[:15]\n",
    "data"
   ]
  },
  {
   "cell_type": "code",
   "execution_count": 114,
   "metadata": {},
   "outputs": [],
   "source": [
    "p = figure(x_range=data.iloc[:,0], plot_width=800, plot_height=600, title=\"Top Rated Books with more than 1000 Customers Rating\", toolbar_location=None, tools=\"\")\n",
    "\n",
    "p.vbar(x=data.iloc[:,0], top=data.iloc[:,2], width=0.9)\n",
    "\n",
    "p.xgrid.grid_line_color = None\n",
    "p.y_range.start = 0\n",
    "#p.xaxis.major_label_orientation = math.pi/2"
   ]
  },
  {
   "cell_type": "code",
   "execution_count": 115,
   "metadata": {},
   "outputs": [
    {
     "data": {
      "text/html": [
       "\n",
       "\n",
       "\n",
       "\n",
       "\n",
       "\n",
       "  <div class=\"bk-root\" id=\"a39cc90a-4c3d-4c8a-840e-71b2dcbfdefb\" data-root-id=\"5418\"></div>\n"
      ]
     },
     "metadata": {},
     "output_type": "display_data"
    },
    {
     "data": {
      "application/javascript": [
       "(function(root) {\n",
       "  function embed_document(root) {\n",
       "    \n",
       "  const docs_json = {\"ba168671-1213-45d8-92b2-0cfeb32ee80d\":{\"defs\":[],\"roots\":{\"references\":[{\"attributes\":{\"below\":[{\"id\":\"5429\"}],\"center\":[{\"id\":\"5431\"},{\"id\":\"5435\"}],\"left\":[{\"id\":\"5432\"}],\"renderers\":[{\"id\":\"5441\"}],\"title\":{\"id\":\"5419\"},\"toolbar\":{\"id\":\"5436\"},\"toolbar_location\":null,\"width\":800,\"x_range\":{\"id\":\"5421\"},\"x_scale\":{\"id\":\"5425\"},\"y_range\":{\"id\":\"5423\"},\"y_scale\":{\"id\":\"5427\"}},\"id\":\"5418\",\"subtype\":\"Figure\",\"type\":\"Plot\"},{\"attributes\":{},\"id\":\"5649\",\"type\":\"BasicTickFormatter\"},{\"attributes\":{\"factors\":[\"Energize Your Mind: Learn the Art of Mastering Your Thoughts, Feelings and Emotions\",\"My First Library: Boxset of 10 Board Books for Kids\",\"My First Mythology Tale (Illustrated) (Set of 5 Books) - Mahabharata, Krishna, Hanuman, Ganesha, Ramayana - Story Book for Kids - English Short Stories with Colourful Pictures - Read Aloud to Infants, Toddlers\",\"Brain Activity Book for Kids - 200+ Activities for Age 3+\",\"Doglapan: The Hard Truth about Life and Start-Ups\",\"Grandma's Bag of Stories: Collection of 20+ Illustrated short stories, traditional Indian folk tales for all ages for children of all ages by Sudha Murty [Paperback] Sudha Murty\",\"Everything is Psychology\"]},\"id\":\"5421\",\"type\":\"FactorRange\"},{\"attributes\":{\"start\":0},\"id\":\"5423\",\"type\":\"DataRange1d\"},{\"attributes\":{\"axis\":{\"id\":\"5432\"},\"coordinates\":null,\"dimension\":1,\"group\":null,\"ticker\":null},\"id\":\"5435\",\"type\":\"Grid\"},{\"attributes\":{},\"id\":\"5430\",\"type\":\"CategoricalTicker\"},{\"attributes\":{\"coordinates\":null,\"data_source\":{\"id\":\"5437\"},\"glyph\":{\"id\":\"5438\"},\"group\":null,\"hover_glyph\":null,\"muted_glyph\":{\"id\":\"5440\"},\"nonselection_glyph\":{\"id\":\"5439\"},\"view\":{\"id\":\"5442\"}},\"id\":\"5441\",\"type\":\"GlyphRenderer\"},{\"attributes\":{\"coordinates\":null,\"group\":null,\"text\":\"Top Rated Books with more than 1000 Customers Rating\"},\"id\":\"5419\",\"type\":\"Title\"},{\"attributes\":{},\"id\":\"5654\",\"type\":\"UnionRenderers\"},{\"attributes\":{},\"id\":\"5433\",\"type\":\"BasicTicker\"},{\"attributes\":{\"source\":{\"id\":\"5437\"}},\"id\":\"5442\",\"type\":\"CDSView\"},{\"attributes\":{},\"id\":\"5427\",\"type\":\"LinearScale\"},{\"attributes\":{\"fill_alpha\":{\"value\":0.1},\"fill_color\":{\"value\":\"#1f77b4\"},\"hatch_alpha\":{\"value\":0.1},\"line_alpha\":{\"value\":0.1},\"line_color\":{\"value\":\"#1f77b4\"},\"top\":{\"field\":\"top\"},\"width\":{\"value\":0.9},\"x\":{\"field\":\"x\"}},\"id\":\"5439\",\"type\":\"VBar\"},{\"attributes\":{},\"id\":\"5653\",\"type\":\"AllLabels\"},{\"attributes\":{},\"id\":\"5425\",\"type\":\"CategoricalScale\"},{\"attributes\":{},\"id\":\"5436\",\"type\":\"Toolbar\"},{\"attributes\":{\"coordinates\":null,\"formatter\":{\"id\":\"5649\"},\"group\":null,\"major_label_policy\":{\"id\":\"5650\"},\"ticker\":{\"id\":\"5433\"}},\"id\":\"5432\",\"type\":\"LinearAxis\"},{\"attributes\":{\"data\":{\"top\":{\"__ndarray__\":\"ZmZmZmZmEkBmZmZmZmYSQGZmZmZmZhJAAAAAAAAAEkAAAAAAAAASQJqZmZmZmRFAMzMzMzMzEUA=\",\"dtype\":\"float64\",\"order\":\"little\",\"shape\":[7]},\"x\":[\"Energize Your Mind: Learn the Art of Mastering Your Thoughts, Feelings and Emotions\",\"My First Library: Boxset of 10 Board Books for Kids\",\"My First Mythology Tale (Illustrated) (Set of 5 Books) - Mahabharata, Krishna, Hanuman, Ganesha, Ramayana - Story Book for Kids - English Short Stories with Colourful Pictures - Read Aloud to Infants, Toddlers\",\"Brain Activity Book for Kids - 200+ Activities for Age 3+\",\"Doglapan: The Hard Truth about Life and Start-Ups\",\"Grandma's Bag of Stories: Collection of 20+ Illustrated short stories, traditional Indian folk tales for all ages for children of all ages by Sudha Murty [Paperback] Sudha Murty\",\"Everything is Psychology\"]},\"selected\":{\"id\":\"5655\"},\"selection_policy\":{\"id\":\"5654\"}},\"id\":\"5437\",\"type\":\"ColumnDataSource\"},{\"attributes\":{\"coordinates\":null,\"formatter\":{\"id\":\"5652\"},\"group\":null,\"major_label_policy\":{\"id\":\"5653\"},\"ticker\":{\"id\":\"5430\"}},\"id\":\"5429\",\"type\":\"CategoricalAxis\"},{\"attributes\":{\"fill_color\":{\"value\":\"#1f77b4\"},\"line_color\":{\"value\":\"#1f77b4\"},\"top\":{\"field\":\"top\"},\"width\":{\"value\":0.9},\"x\":{\"field\":\"x\"}},\"id\":\"5438\",\"type\":\"VBar\"},{\"attributes\":{\"fill_alpha\":{\"value\":0.2},\"fill_color\":{\"value\":\"#1f77b4\"},\"hatch_alpha\":{\"value\":0.2},\"line_alpha\":{\"value\":0.2},\"line_color\":{\"value\":\"#1f77b4\"},\"top\":{\"field\":\"top\"},\"width\":{\"value\":0.9},\"x\":{\"field\":\"x\"}},\"id\":\"5440\",\"type\":\"VBar\"},{\"attributes\":{},\"id\":\"5652\",\"type\":\"CategoricalTickFormatter\"},{\"attributes\":{},\"id\":\"5655\",\"type\":\"Selection\"},{\"attributes\":{},\"id\":\"5650\",\"type\":\"AllLabels\"},{\"attributes\":{\"axis\":{\"id\":\"5429\"},\"coordinates\":null,\"grid_line_color\":null,\"group\":null,\"ticker\":null},\"id\":\"5431\",\"type\":\"Grid\"}],\"root_ids\":[\"5418\"]},\"title\":\"Bokeh Application\",\"version\":\"2.4.1\"}};\n",
       "  const render_items = [{\"docid\":\"ba168671-1213-45d8-92b2-0cfeb32ee80d\",\"root_ids\":[\"5418\"],\"roots\":{\"5418\":\"a39cc90a-4c3d-4c8a-840e-71b2dcbfdefb\"}}];\n",
       "  root.Bokeh.embed.embed_items_notebook(docs_json, render_items);\n",
       "\n",
       "  }\n",
       "  if (root.Bokeh !== undefined) {\n",
       "    embed_document(root);\n",
       "  } else {\n",
       "    let attempts = 0;\n",
       "    const timer = setInterval(function(root) {\n",
       "      if (root.Bokeh !== undefined) {\n",
       "        clearInterval(timer);\n",
       "        embed_document(root);\n",
       "      } else {\n",
       "        attempts++;\n",
       "        if (attempts > 100) {\n",
       "          clearInterval(timer);\n",
       "          console.log(\"Bokeh: ERROR: Unable to run BokehJS code because BokehJS library is missing\");\n",
       "        }\n",
       "      }\n",
       "    }, 10, root)\n",
       "  }\n",
       "})(window);"
      ],
      "application/vnd.bokehjs_exec.v0+json": ""
     },
     "metadata": {
      "application/vnd.bokehjs_exec.v0+json": {
       "id": "5418"
      }
     },
     "output_type": "display_data"
    }
   ],
   "source": [
    "show(p)"
   ]
  },
  {
   "cell_type": "markdown",
   "metadata": {},
   "source": [
    "## Most Customer Rated Authors and Books"
   ]
  },
  {
   "cell_type": "code",
   "execution_count": 116,
   "metadata": {},
   "outputs": [],
   "source": [
    "data = df.sort_values([\"Customers_Rated\"], axis=0, ascending=False)[:20]"
   ]
  },
  {
   "cell_type": "code",
   "execution_count": 117,
   "metadata": {},
   "outputs": [
    {
     "data": {
      "text/html": [
       "<div>\n",
       "<style scoped>\n",
       "    .dataframe tbody tr th:only-of-type {\n",
       "        vertical-align: middle;\n",
       "    }\n",
       "\n",
       "    .dataframe tbody tr th {\n",
       "        vertical-align: top;\n",
       "    }\n",
       "\n",
       "    .dataframe thead th {\n",
       "        text-align: right;\n",
       "    }\n",
       "</style>\n",
       "<table border=\"1\" class=\"dataframe\">\n",
       "  <thead>\n",
       "    <tr style=\"text-align: right;\">\n",
       "      <th></th>\n",
       "      <th>Book_Name</th>\n",
       "      <th>Author</th>\n",
       "      <th>Ratings</th>\n",
       "      <th>Customers_Rated</th>\n",
       "      <th>Price</th>\n",
       "    </tr>\n",
       "  </thead>\n",
       "  <tbody>\n",
       "    <tr>\n",
       "      <th>4</th>\n",
       "      <td>Brain Activity Book for Kids - 200+ Activities...</td>\n",
       "      <td>Wonder House Books</td>\n",
       "      <td>4.5</td>\n",
       "      <td>66704</td>\n",
       "      <td>100.00</td>\n",
       "    </tr>\n",
       "    <tr>\n",
       "      <th>3</th>\n",
       "      <td>My First Library: Boxset of 10 Board Books for...</td>\n",
       "      <td>Morgan Housel</td>\n",
       "      <td>4.6</td>\n",
       "      <td>45417</td>\n",
       "      <td>399.00</td>\n",
       "    </tr>\n",
       "    <tr>\n",
       "      <th>1</th>\n",
       "      <td>Energize Your Mind: Learn the Art of Mastering...</td>\n",
       "      <td>James Clear</td>\n",
       "      <td>4.6</td>\n",
       "      <td>43136</td>\n",
       "      <td>197.00</td>\n",
       "    </tr>\n",
       "    <tr>\n",
       "      <th>8</th>\n",
       "      <td>My First Mythology Tale (Illustrated) (Set of ...</td>\n",
       "      <td>Héctor García</td>\n",
       "      <td>4.6</td>\n",
       "      <td>41225</td>\n",
       "      <td>178.00</td>\n",
       "    </tr>\n",
       "    <tr>\n",
       "      <th>9</th>\n",
       "      <td>Grandma's Bag of Stories: Collection of 20+ Il...</td>\n",
       "      <td>Maple Press</td>\n",
       "      <td>4.4</td>\n",
       "      <td>6315</td>\n",
       "      <td>185.00</td>\n",
       "    </tr>\n",
       "    <tr>\n",
       "      <th>5</th>\n",
       "      <td>Doglapan: The Hard Truth about Life and Start-Ups</td>\n",
       "      <td>Maple Press</td>\n",
       "      <td>4.5</td>\n",
       "      <td>2624</td>\n",
       "      <td>209.00</td>\n",
       "    </tr>\n",
       "    <tr>\n",
       "      <th>6</th>\n",
       "      <td>Everything is Psychology</td>\n",
       "      <td>Ashneer Grover</td>\n",
       "      <td>4.3</td>\n",
       "      <td>1023</td>\n",
       "      <td>278.00</td>\n",
       "    </tr>\n",
       "    <tr>\n",
       "      <th>2</th>\n",
       "      <td>The Psychology of Money</td>\n",
       "      <td>Gaur Gopal Das</td>\n",
       "      <td>4.7</td>\n",
       "      <td>282</td>\n",
       "      <td>225.00</td>\n",
       "    </tr>\n",
       "    <tr>\n",
       "      <th>7</th>\n",
       "      <td>Ikigai: The Japanese secret to a long and happ...</td>\n",
       "      <td>Deep Trivedi</td>\n",
       "      <td>5.0</td>\n",
       "      <td>3</td>\n",
       "      <td>370.00</td>\n",
       "    </tr>\n",
       "    <tr>\n",
       "      <th>0</th>\n",
       "      <td>Atomic Habits: The life-changing million copy ...</td>\n",
       "      <td>ANKIT BHATI</td>\n",
       "      <td>5.0</td>\n",
       "      <td>1</td>\n",
       "      <td>389.00</td>\n",
       "    </tr>\n",
       "  </tbody>\n",
       "</table>\n",
       "</div>"
      ],
      "text/plain": [
       "                                           Book_Name              Author  \\\n",
       "4  Brain Activity Book for Kids - 200+ Activities...  Wonder House Books   \n",
       "3  My First Library: Boxset of 10 Board Books for...       Morgan Housel   \n",
       "1  Energize Your Mind: Learn the Art of Mastering...         James Clear   \n",
       "8  My First Mythology Tale (Illustrated) (Set of ...       Héctor García   \n",
       "9  Grandma's Bag of Stories: Collection of 20+ Il...         Maple Press   \n",
       "5  Doglapan: The Hard Truth about Life and Start-Ups         Maple Press   \n",
       "6                           Everything is Psychology      Ashneer Grover   \n",
       "2                            The Psychology of Money      Gaur Gopal Das   \n",
       "7  Ikigai: The Japanese secret to a long and happ...        Deep Trivedi   \n",
       "0  Atomic Habits: The life-changing million copy ...         ANKIT BHATI   \n",
       "\n",
       "   Ratings  Customers_Rated   Price  \n",
       "4      4.5            66704  100.00  \n",
       "3      4.6            45417  399.00  \n",
       "1      4.6            43136  197.00  \n",
       "8      4.6            41225  178.00  \n",
       "9      4.4             6315  185.00  \n",
       "5      4.5             2624  209.00  \n",
       "6      4.3             1023  278.00  \n",
       "2      4.7              282  225.00  \n",
       "7      5.0                3  370.00  \n",
       "0      5.0                1  389.00  "
      ]
     },
     "execution_count": 117,
     "metadata": {},
     "output_type": "execute_result"
    }
   ],
   "source": [
    "data"
   ]
  }
 ],
 "metadata": {
  "language_info": {
   "codemirror_mode": {
    "name": "ipython",
    "version": 3
   },
   "file_extension": ".py",
   "mimetype": "text/x-python",
   "name": "python",
   "nbconvert_exporter": "python",
   "pygments_lexer": "ipython3",
   "version": "3.9.7"
  }
 },
 "nbformat": 4,
 "nbformat_minor": 2
}